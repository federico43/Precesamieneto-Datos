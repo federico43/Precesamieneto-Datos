{
  "cells": [
    {
      "cell_type": "markdown",
      "metadata": {
        "application/vnd.databricks.v1+cell": {
          "cellMetadata": {
            "byteLimit": 2048000,
            "rowLimit": 10000
          },
          "inputWidgets": {},
          "nuid": "7fa6cb21-c01d-46f6-ad5e-c6e211365813",
          "showTitle": false,
          "tableResultSettingsMap": {},
          "title": ""
        },
        "id": "LIMC2WN3efs5"
      },
      "source": [
        "**Autor:** Federico Quiroga                 \n",
        "\n",
        "**Materia:** Procesamiento de Datos\n",
        "                            \n",
        "**Topico:** Uso de metricas para la evaluación de un modelo de regresion lienal\n",
        "\n",
        "**Contenido:** Limpieza, Analisis de Datos, creación y evaluación del modelo de regrsión sobre personas que han sufriendo de un accidente cerebrovascular"
      ]
    },
    {
      "cell_type": "markdown",
      "source": [
        "# Extraccion de Datos"
      ],
      "metadata": {
        "id": "ptGskoGCiKmK"
      }
    },
    {
      "cell_type": "code",
      "execution_count": null,
      "metadata": {
        "application/vnd.databricks.v1+cell": {
          "cellMetadata": {
            "byteLimit": 2048000,
            "rowLimit": 10000
          },
          "inputWidgets": {},
          "nuid": "5a12cae4-efed-4cf7-86b7-80474528a6dd",
          "showTitle": false,
          "tableResultSettingsMap": {},
          "title": ""
        },
        "id": "ZauJC8Trefs6"
      },
      "outputs": [],
      "source": [
        "import numpy as np\n",
        "import matplotlib.pyplot as plt\n",
        "import seaborn as sns\n",
        "\n",
        "from pyspark.sql import SparkSession\n",
        "from pyspark.sql.functions import *\n",
        "from pyspark.sql import functions as F\n",
        "from pyspark.sql.types import *\n",
        "from pyspark.sql import SQLContext"
      ]
    },
    {
      "cell_type": "code",
      "execution_count": null,
      "metadata": {
        "application/vnd.databricks.v1+cell": {
          "cellMetadata": {
            "byteLimit": 2048000,
            "rowLimit": 10000
          },
          "inputWidgets": {},
          "nuid": "e30a9b59-abc8-4f78-b86a-d7e74f069cca",
          "showTitle": false,
          "tableResultSettingsMap": {},
          "title": ""
        },
        "id": "qt8tP3c5efs7"
      },
      "outputs": [],
      "source": [
        "# Se crea una SparkSession\n",
        "spark = SparkSession.builder \\\n",
        "    .appName(\"SparkEnvironment\") \\\n",
        "    .getOrCreate()"
      ]
    },
    {
      "cell_type": "code",
      "source": [
        "from google.colab import drive\n",
        "drive.mount('/content/drive')\n",
        "\n",
        "# Ruta al archivo CSV en Google Drive\n",
        "Stroke_File_path = \"/content/drive/MyDrive/Colab Notebooks/EXTRA/Prosesamiento datos Datasets/stroke_pyspark.csv\"\n",
        "\n",
        "# Crea un DataFrame de Spark a partir del archivo CSV\n",
        "df00 = spark.read.csv(Stroke_File_path, header=True, inferSchema=True)\n",
        "\n",
        "# Muestra las primeras filas del DataFrame\n",
        "df00.show(5)\n"
      ],
      "metadata": {
        "colab": {
          "base_uri": "https://localhost:8080/"
        },
        "id": "siYDL6xRfef7",
        "outputId": "4e175e2c-0d13-45af-fb39-bc1dd199fb16"
      },
      "execution_count": null,
      "outputs": [
        {
          "output_type": "stream",
          "name": "stdout",
          "text": [
            "Drive already mounted at /content/drive; to attempt to forcibly remount, call drive.mount(\"/content/drive\", force_remount=True).\n",
            "+-----+------+----+------------+-------------+------------+-------------+--------------+-----------------+----+---------------+------+\n",
            "|   id|gender| age|hypertension|heart_disease|ever_married|    work_type|Residence_type|avg_glucose_level| bmi| smoking_status|stroke|\n",
            "+-----+------+----+------------+-------------+------------+-------------+--------------+-----------------+----+---------------+------+\n",
            "| 9046|  Male|67.0|           0|            1|         Yes|      Private|         Urban|           228.69|36.6|formerly smoked|     1|\n",
            "|51676|Female|61.0|           0|            0|         Yes|Self-employed|         Rural|           202.21| N/A|   never smoked|     1|\n",
            "|31112|  Male|80.0|           0|            1|         Yes|      Private|         Rural|           105.92|32.5|   never smoked|     1|\n",
            "|60182|Female|49.0|           0|            0|         Yes|      Private|         Urban|           171.23|34.4|         smokes|     1|\n",
            "| 1665|Female|79.0|           1|            0|         Yes|Self-employed|         Rural|           174.12|  24|   never smoked|     1|\n",
            "+-----+------+----+------------+-------------+------------+-------------+--------------+-----------------+----+---------------+------+\n",
            "only showing top 5 rows\n",
            "\n"
          ]
        }
      ]
    },
    {
      "cell_type": "code",
      "source": [
        "df00.columns"
      ],
      "metadata": {
        "id": "w_RJOlLJgsBQ",
        "colab": {
          "base_uri": "https://localhost:8080/"
        },
        "outputId": "d3389ca2-5d6c-494c-f5c8-0f02647cb9a8"
      },
      "execution_count": null,
      "outputs": [
        {
          "output_type": "execute_result",
          "data": {
            "text/plain": [
              "['id',\n",
              " 'gender',\n",
              " 'age',\n",
              " 'hypertension',\n",
              " 'heart_disease',\n",
              " 'ever_married',\n",
              " 'work_type',\n",
              " 'Residence_type',\n",
              " 'avg_glucose_level',\n",
              " 'bmi',\n",
              " 'smoking_status',\n",
              " 'stroke']"
            ]
          },
          "metadata": {},
          "execution_count": 52
        }
      ]
    },
    {
      "cell_type": "markdown",
      "source": [
        "###  Que Datos Contiene el Datafame\n",
        "\n",
        "`id`: un número único para identificar a cada persona.\n",
        "\n",
        "`gender`: género de la persona (`Male`, `Female`, `Other`).\n",
        "\n",
        "`age`: edad en años.\n",
        "\n",
        "`hypertension`: si tiene presión alta (0 = No, 1 = Sí).\n",
        "\n",
        "`heart_disease`: si tiene alguna enfermedad del corazón (0 = No, 1 = Sí).\n",
        "\n",
        "`ever_married`: si alguna vez se ha casado (`Yes` o `No`).\n",
        "\n",
        "`work_type`: a qué se dedica (`Private`, `Self-employed`, `Govt_job`, `children`, etc.).\n",
        "\n",
        "`Residence_type`: si vive en zona urbana o rural.\n",
        "\n",
        "`avg_glucose_level`: nivel promedio de glucosa en sangre.\n",
        "\n",
        "`bmi`: índice de masa corporal (relación entre peso y estatura).\n",
        "\n",
        "`smoking_status`: si fuma o ha fumado (`smokes`, `never smoked`, `formerly smoked`, etc.).\n",
        "\n",
        "`stroke`: si ha tenido un ACV (accidente cerebrovascular) (0 = No, 1 = Sí).\n"
      ],
      "metadata": {
        "id": "HesQoEpxilsT"
      }
    },
    {
      "cell_type": "code",
      "source": [
        "df00.printSchema()"
      ],
      "metadata": {
        "colab": {
          "base_uri": "https://localhost:8080/"
        },
        "id": "i1qnZyr_i3B1",
        "outputId": "cc9238b3-bc9f-470d-c04f-f5158e818108"
      },
      "execution_count": null,
      "outputs": [
        {
          "output_type": "stream",
          "name": "stdout",
          "text": [
            "root\n",
            " |-- id: integer (nullable = true)\n",
            " |-- gender: string (nullable = true)\n",
            " |-- age: double (nullable = true)\n",
            " |-- hypertension: integer (nullable = true)\n",
            " |-- heart_disease: integer (nullable = true)\n",
            " |-- ever_married: string (nullable = true)\n",
            " |-- work_type: string (nullable = true)\n",
            " |-- Residence_type: string (nullable = true)\n",
            " |-- avg_glucose_level: double (nullable = true)\n",
            " |-- bmi: string (nullable = true)\n",
            " |-- smoking_status: string (nullable = true)\n",
            " |-- stroke: integer (nullable = true)\n",
            "\n"
          ]
        }
      ]
    },
    {
      "cell_type": "markdown",
      "source": [
        "como se puede observar, hay datos numericos son del tipo string"
      ],
      "metadata": {
        "id": "_N60aUX4i8Wt"
      }
    },
    {
      "cell_type": "code",
      "execution_count": null,
      "metadata": {
        "application/vnd.databricks.v1+cell": {
          "cellMetadata": {
            "byteLimit": 2048000,
            "rowLimit": 10000
          },
          "inputWidgets": {},
          "nuid": "14528135-5606-4ca1-bbe9-fd411b78dae0",
          "showTitle": false,
          "tableResultSettingsMap": {},
          "title": ""
        },
        "id": "VKW12JQZefs7",
        "colab": {
          "base_uri": "https://localhost:8080/"
        },
        "outputId": "18d452a3-6cad-4337-9eac-f7ee0de64bed"
      },
      "outputs": [
        {
          "output_type": "stream",
          "name": "stdout",
          "text": [
            "root\n",
            " |-- id: integer (nullable = true)\n",
            " |-- gender: string (nullable = true)\n",
            " |-- age: double (nullable = true)\n",
            " |-- hypertension: integer (nullable = true)\n",
            " |-- heart_disease: integer (nullable = true)\n",
            " |-- ever_married: string (nullable = true)\n",
            " |-- work_type: string (nullable = true)\n",
            " |-- Residence_type: string (nullable = true)\n",
            " |-- avg_glucose_level: double (nullable = true)\n",
            " |-- bmi: double (nullable = true)\n",
            " |-- smoking_status: string (nullable = true)\n",
            " |-- stroke: integer (nullable = true)\n",
            "\n"
          ]
        }
      ],
      "source": [
        "#Se cambian los datos \"age\" y \"bmi\" de string a Int y Double\n",
        "df01 = df00.withColumn(\"age\", df00.age.cast(\"int\"))\n",
        "df01 = df00.withColumn(\"bmi\", df00.bmi.cast(\"double\"))\n",
        "df01.printSchema()"
      ]
    },
    {
      "cell_type": "code",
      "execution_count": null,
      "metadata": {
        "application/vnd.databricks.v1+cell": {
          "cellMetadata": {
            "byteLimit": 2048000,
            "rowLimit": 10000
          },
          "inputWidgets": {},
          "nuid": "890989d0-65f2-4e7b-8dd0-9e546b39a80c",
          "showTitle": false,
          "tableResultSettingsMap": {},
          "title": ""
        },
        "id": "f3KIbIHgefs8",
        "colab": {
          "base_uri": "https://localhost:8080/"
        },
        "outputId": "a0057e8b-742f-41fe-9902-88e9fd07169a"
      },
      "outputs": [
        {
          "output_type": "stream",
          "name": "stdout",
          "text": [
            "+------+-----+\n",
            "|gender|count|\n",
            "+------+-----+\n",
            "|Female| 2994|\n",
            "| Other|    1|\n",
            "|  Male| 2115|\n",
            "+------+-----+\n",
            "\n"
          ]
        }
      ],
      "source": [
        "#Cuantas entradas hay por Genero\n",
        "df01.groupBy('gender').count().show()\n"
      ]
    },
    {
      "cell_type": "code",
      "source": [
        "# se elimina 'other' de la columna gender al ser solo un dato\n",
        "\n",
        "# Eliminar filas donde 'gender' es 'Other'\n",
        "df01 = df01.filter(df01.gender != 'Other')\n",
        "\n",
        "# Mostrar el recuento de entradas por género después de eliminar 'Other'\n",
        "df01.groupBy('gender').count().show()\n"
      ],
      "metadata": {
        "colab": {
          "base_uri": "https://localhost:8080/"
        },
        "id": "ySlol24cjiRM",
        "outputId": "155fac62-e4b3-4881-decd-f0ccb946d92e"
      },
      "execution_count": null,
      "outputs": [
        {
          "output_type": "stream",
          "name": "stdout",
          "text": [
            "+------+-----+\n",
            "|gender|count|\n",
            "+------+-----+\n",
            "|Female| 2994|\n",
            "|  Male| 2115|\n",
            "+------+-----+\n",
            "\n"
          ]
        }
      ]
    },
    {
      "cell_type": "markdown",
      "metadata": {
        "application/vnd.databricks.v1+cell": {
          "cellMetadata": {
            "byteLimit": 2048000,
            "rowLimit": 10000
          },
          "inputWidgets": {},
          "nuid": "59fa9783-8d6a-4aee-b20a-bce4b8ac3ef1",
          "showTitle": false,
          "tableResultSettingsMap": {},
          "title": ""
        },
        "id": "hkEEQ0zOefs8"
      },
      "source": [
        "\n",
        "\n",
        "# REVISION DE DATOS NULOS Y LIMPIEZA"
      ]
    },
    {
      "cell_type": "code",
      "execution_count": null,
      "metadata": {
        "application/vnd.databricks.v1+cell": {
          "cellMetadata": {
            "byteLimit": 2048000,
            "rowLimit": 10000
          },
          "inputWidgets": {},
          "nuid": "a699ef5c-a60d-40cb-9475-ef5cc736dad4",
          "showTitle": false,
          "tableResultSettingsMap": {},
          "title": ""
        },
        "id": "r-Lzyy0Pefs8",
        "colab": {
          "base_uri": "https://localhost:8080/"
        },
        "outputId": "c7029766-27bf-4f18-cbb5-17bb739381e1"
      },
      "outputs": [
        {
          "output_type": "stream",
          "name": "stdout",
          "text": [
            "+---+------+---+------------+-------------+------------+---------+--------------+-----------------+---+--------------+------+\n",
            "| id|gender|age|hypertension|heart_disease|ever_married|work_type|Residence_type|avg_glucose_level|bmi|smoking_status|stroke|\n",
            "+---+------+---+------------+-------------+------------+---------+--------------+-----------------+---+--------------+------+\n",
            "|  0|     0|  0|           0|            0|           0|        0|             0|                0|201|             0|     0|\n",
            "+---+------+---+------------+-------------+------------+---------+--------------+-----------------+---+--------------+------+\n",
            "\n"
          ]
        }
      ],
      "source": [
        "df01.select([count(when(isnan(c) | col(c).isNull(), c)).alias(c) for c in df01.columns]).show()"
      ]
    },
    {
      "cell_type": "markdown",
      "source": [
        "se encuentra que solo hay datos Nulos en la columba BMI por lo que se remplazara el valor nulo por el su BMI promedio por peso y rango de edades"
      ],
      "metadata": {
        "id": "NPY2jPawj9ln"
      }
    },
    {
      "cell_type": "code",
      "execution_count": null,
      "metadata": {
        "application/vnd.databricks.v1+cell": {
          "cellMetadata": {
            "byteLimit": 2048000,
            "rowLimit": 10000
          },
          "inputWidgets": {},
          "nuid": "023ea404-bb55-432e-971f-8fb9e3cfb5c3",
          "showTitle": false,
          "tableResultSettingsMap": {},
          "title": ""
        },
        "id": "imNb735lefs9",
        "colab": {
          "base_uri": "https://localhost:8080/"
        },
        "outputId": "0e8fbbc8-be04-4d09-883a-e85a89ab63e7"
      },
      "outputs": [
        {
          "output_type": "stream",
          "name": "stdout",
          "text": [
            "{'avg10F': 18.687962962962963, 'avg20F': 25.202371541501993, 'avg30F': 28.110054347826086, 'avg40F': 31.114250614250615, 'avg50F': 31.147260273972595, 'avg60F': 31.64794816414686, 'avg70F': 30.777976190476185, 'avg80F': 29.53778501628664, 'avg90F': 28.23577981651375}\n",
            "{'avg10M': 19.03168724279836, 'avg20M': 24.584051724137947, 'avg30M': 28.228823529411773, 'avg40M': 31.372321428571432, 'avg50M': 31.936329588014974, 'avg60M': 31.889181286549697, 'avg70M': 31.3031496062992, 'avg80M': 29.140291262135918, 'avg90M': 28.34931506849315}\n"
          ]
        }
      ],
      "source": [
        "# se recolectan los Promedios de el imc\n",
        "\n",
        "rangos = [(0, 10), (10, 20), (20, 30), (30, 40), (40, 50), (50, 60), (60, 70), (70, 80), (80, 90)]\n",
        "\n",
        "\n",
        "\n",
        "def calcular_promedio_imc(df, gender, rangos):\n",
        "    promedios = {}\n",
        "    for start, end in rangos:\n",
        "        key = f'avg{end}{gender[0]}'\n",
        "\n",
        "        avg = df.filter((col('gender') == gender) & (col('age') >= start) & (col('age') < end)) \\\n",
        "                .agg(F.mean(col('bmi'))).collect()[0][0]\n",
        "\n",
        "        promedios[key] = avg\n",
        "\n",
        "    return promedios\n",
        "\n",
        "# Calcular los promedios para mujeres y hombres\n",
        "resultadosF = calcular_promedio_imc(df01, 'Female', rangos)\n",
        "print(resultadosF)\n",
        "\n",
        "resultadosM = calcular_promedio_imc(df01, 'Male', rangos)\n",
        "print(resultadosM)"
      ]
    },
    {
      "cell_type": "code",
      "execution_count": null,
      "metadata": {
        "application/vnd.databricks.v1+cell": {
          "cellMetadata": {
            "byteLimit": 2048000,
            "rowLimit": 10000
          },
          "inputWidgets": {},
          "nuid": "6cb830e0-7b55-4541-94e3-23e2022ce9da",
          "showTitle": false,
          "tableResultSettingsMap": {},
          "title": ""
        },
        "id": "3_96DNaVefs9"
      },
      "outputs": [],
      "source": [
        "#remplazar NULL por promedios por su rango de edad\n",
        "\n",
        "promedios = {**resultadosF, **resultadosM}\n",
        "\n",
        "def remplazar_nulls(df, promedios, rangos):\n",
        "    for start, end in rangos:\n",
        "        for gender in ['Female', 'Male']:\n",
        "            key = f'avg{end}{gender[0]}'\n",
        "            avg_bmi = promedios.get(key, None)\n",
        "\n",
        "            # Asegurarse de que el promedio no sea None\n",
        "            if avg_bmi is not None:\n",
        "                # Reemplazar los valores NULL de BMI con el promedio calculado para ese grupo\n",
        "                df = df.withColumn(\n",
        "                    'bmi',\n",
        "                    F.when(\n",
        "                        (F.col('gender') == gender) &\n",
        "                        (F.col('age') >= start) & (F.col('age') < end) &\n",
        "                        F.col('bmi').isNull(), avg_bmi\n",
        "                    ).otherwise(F.col('bmi'))\n",
        "                )\n",
        "    return df\n",
        "\n",
        "\n",
        "df02 = remplazar_nulls(df01, promedios, rangos)"
      ]
    },
    {
      "cell_type": "code",
      "execution_count": null,
      "metadata": {
        "application/vnd.databricks.v1+cell": {
          "cellMetadata": {
            "byteLimit": 2048000,
            "rowLimit": 10000
          },
          "inputWidgets": {},
          "nuid": "dabb0bc1-3fc4-4100-90fe-72f63828d1db",
          "showTitle": false,
          "tableResultSettingsMap": {},
          "title": ""
        },
        "id": "yQTMmrzAefs9",
        "colab": {
          "base_uri": "https://localhost:8080/"
        },
        "outputId": "212c302d-6757-40f8-d187-d21470c35cec"
      },
      "outputs": [
        {
          "output_type": "stream",
          "name": "stdout",
          "text": [
            "+---+------+---+------------+-------------+------------+---------+--------------+-----------------+---+--------------+------+\n",
            "| id|gender|age|hypertension|heart_disease|ever_married|work_type|Residence_type|avg_glucose_level|bmi|smoking_status|stroke|\n",
            "+---+------+---+------------+-------------+------------+---------+--------------+-----------------+---+--------------+------+\n",
            "|  0|     0|  0|           0|            0|           0|        0|             0|                0|  0|             0|     0|\n",
            "+---+------+---+------------+-------------+------------+---------+--------------+-----------------+---+--------------+------+\n",
            "\n"
          ]
        }
      ],
      "source": [
        "#Se visualiza si aun existen datos nulos\n",
        "df02.select([count(when(isnan(c) | col(c).isNull(), c)).alias(c) for c in df02.columns]).show()"
      ]
    },
    {
      "cell_type": "markdown",
      "source": [
        "# Visualizacion e Analisis de datos"
      ],
      "metadata": {
        "id": "eRmKmd_Nt3Y-"
      }
    },
    {
      "cell_type": "code",
      "execution_count": null,
      "metadata": {
        "application/vnd.databricks.v1+cell": {
          "cellMetadata": {
            "byteLimit": 2048000,
            "rowLimit": 10000
          },
          "inputWidgets": {},
          "nuid": "c30e8f37-04d9-414f-856d-31570b3a2b75",
          "showTitle": false,
          "tableResultSettingsMap": {},
          "title": ""
        },
        "id": "e2c4f3WJefs9",
        "colab": {
          "base_uri": "https://localhost:8080/",
          "height": 54
        },
        "outputId": "d1b6648f-6d5e-4ec8-d886-97eab1ac289a"
      },
      "outputs": [
        {
          "output_type": "display_data",
          "data": {
            "text/plain": [
              "<Figure size 1000x600 with 1 Axes>"
            ],
            "image/png": "[encoded data removed]"
          },
          "metadata": {}
        }
      ],
      "source": [
        "#Grafico de Distribucion por Edades\n",
        "\n",
        "sns.set(style=\"whitegrid\")\n",
        "\n",
        "clases, cantidad = df02.groupby('age').count().select('count').rdd.flatMap(lambda x: x).histogram(20)\n",
        "plt.figure(figsize=(10, 6))\n",
        "plt.hist(clases[:-1], bins=clases, weights=cantidad, color='skyblue', edgecolor='black', alpha=0.7)\n",
        "plt.title('Distribución de edades', fontsize=16)\n",
        "plt.xlabel('Edad', fontsize=14)\n",
        "plt.ylabel('Cantidad de personas', fontsize=14)\n",
        "plt.legend(['Edad'], loc='upper right', fontsize=12)\n",
        "\n",
        "plt.tight_layout()\n",
        "plt.show()"
      ]
    },
    {
      "cell_type": "markdown",
      "source": [
        "Hay una cantida alta de personas muy jovenes entre los datos con edades menores a los 10 años aproximadamente\n",
        "\n",
        "apartir de los 20 años las edades parecen asemejarse a una distribucion normal"
      ],
      "metadata": {
        "id": "0J1X6swCmngG"
      }
    },
    {
      "cell_type": "code",
      "execution_count": null,
      "metadata": {
        "application/vnd.databricks.v1+cell": {
          "cellMetadata": {
            "byteLimit": 2048000,
            "rowLimit": 10000
          },
          "inputWidgets": {},
          "nuid": "95d732ad-0f2a-469b-99d2-d864270c85d3",
          "showTitle": false,
          "tableResultSettingsMap": {},
          "title": ""
        },
        "id": "9WEtC41pefs9",
        "colab": {
          "base_uri": "https://localhost:8080/",
          "height": 54
        },
        "outputId": "96576a05-5966-4a6f-8c42-e04c9a55e3ca"
      },
      "outputs": [
        {
          "output_type": "display_data",
          "data": {
            "text/plain": [
              "<Figure size 800x500 with 1 Axes>"
            ],
            "image/png": "[encoded data removed]"
          },
          "metadata": {}
        }
      ],
      "source": [
        "## Conteo por genero\n",
        "\n",
        "sns.set(style=\"whitegrid\")\n",
        "genero = df02.groupby('gender').count().select('count').rdd.flatMap(lambda x: x).collect()\n",
        "\n",
        "categoria = ['Mujeres', 'Hombres']\n",
        "\n",
        "plt.figure(figsize=(8, 5))\n",
        "grafica = plt.bar(categoria, genero, color=['lightcoral', 'skyblue'], edgecolor='black')"
      ]
    },
    {
      "cell_type": "code",
      "execution_count": null,
      "metadata": {
        "application/vnd.databricks.v1+cell": {
          "cellMetadata": {
            "byteLimit": 2048000,
            "rowLimit": 10000
          },
          "inputWidgets": {},
          "nuid": "38e4968f-a184-4d64-a844-8d701bab9a04",
          "showTitle": false,
          "tableResultSettingsMap": {},
          "title": ""
        },
        "id": "q2FUBx6Eefs9",
        "colab": {
          "base_uri": "https://localhost:8080/",
          "height": 54
        },
        "outputId": "d08e7c59-c4ac-4912-c308-431802c11aff"
      },
      "outputs": [
        {
          "output_type": "display_data",
          "data": {
            "text/plain": [
              "<Figure size 800x500 with 1 Axes>"
            ],
            "image/png": "[encoded data removed]"
          },
          "metadata": {}
        }
      ],
      "source": [
        "## Cantidad de personas con enfermedades cardiacas\n",
        "\n",
        "sns.set(style=\"whitegrid\")\n",
        "\n",
        "enfCardiaca = df02.groupby('heart_disease').count().select('count').rdd.flatMap(lambda x: x).collect()\n",
        "categorias = ['Sí', 'No']\n",
        "\n",
        "plt.figure(figsize=(8, 5))\n",
        "grafica = plt.bar(categorias, enfCardiaca, color=['salmon', 'lightgreen'], edgecolor='black')\n",
        "\n",
        "plt.ylabel('Cantidad de personas', fontsize=13)\n",
        "plt.xlabel('¿Tiene enfermedad cardíaca?', fontsize=13)\n",
        "plt.title('Distribución por Enfermedad Cardíaca', fontsize=15)\n",
        "\n",
        "plt.tight_layout()\n",
        "plt.show()"
      ]
    },
    {
      "cell_type": "code",
      "source": [
        "# grafica de si la persona ha tenido un accidente cardiovascular\n",
        "\n",
        "sns.set(style=\"whitegrid\")\n",
        "\n",
        "df02.groupBy('stroke').count().show()\n",
        "stroke_counts = df02.groupBy('stroke').count().collect()\n",
        "\n",
        "stroke_categories = ['No', 'Sí'] if stroke_counts[0]['stroke'] == 0 else ['Sí', 'No']\n",
        "stroke_values = [row['count'] for row in stroke_counts]\n",
        "\n",
        "plt.figure(figsize=(8, 6))\n",
        "sns.barplot(x=stroke_categories, y=stroke_values, palette='pastel', edgecolor='black')\n",
        "plt.xlabel('¿Tuvo Accidente Cerebrovascular?', fontsize=13)\n",
        "plt.ylabel('Número de Personas', fontsize=13)\n",
        "plt.title('Distribución de Personas con y sin Stroke', fontsize=15)\n",
        "\n",
        "plt.tight_layout()\n",
        "plt.show()\n",
        "\n"
      ],
      "metadata": {
        "colab": {
          "base_uri": "https://localhost:8080/",
          "height": 263
        },
        "id": "R1BtiPW8ne8T",
        "outputId": "150d82d3-0f44-4a89-bcfe-216c273ef807"
      },
      "execution_count": null,
      "outputs": [
        {
          "output_type": "stream",
          "name": "stdout",
          "text": [
            "+------+-----+\n",
            "|stroke|count|\n",
            "+------+-----+\n",
            "|     1|  249|\n",
            "|     0| 4860|\n",
            "+------+-----+\n",
            "\n"
          ]
        },
        {
          "output_type": "stream",
          "name": "stderr",
          "text": [
            "<ipython-input-64-a195f64e28cf>:12: FutureWarning: \n",
            "\n",
            "Passing `palette` without assigning `hue` is deprecated and will be removed in v0.14.0. Assign the `x` variable to `hue` and set `legend=False` for the same effect.\n",
            "\n",
            "  sns.barplot(x=stroke_categories, y=stroke_values, palette='pastel', edgecolor='black')\n"
          ]
        },
        {
          "output_type": "display_data",
          "data": {
            "text/plain": [
              "<Figure size 800x600 with 1 Axes>"
            ],
            "image/png": "[encoded data removed]"
          },
          "metadata": {}
        }
      ]
    },
    {
      "cell_type": "markdown",
      "source": [
        "# Creación de un modelo de regresión lineal"
      ],
      "metadata": {
        "id": "2PAhX04xnY4F"
      }
    },
    {
      "cell_type": "markdown",
      "source": [
        "Se procede a crear un **modelo de regresión lineal**, el cual se caracteriza por trabajar con una o varias **variables independientes** que se usan para predecir una **variable dependiente**.\n",
        "\n",
        "En este caso, usaremos las siguientes variables como independientes:\n",
        "\n",
        "- `gender`  \n",
        "- `age`  \n",
        "- `hypertension`  \n",
        "- `heart_disease`  \n",
        "- `ever_married`  \n",
        "- `work_type`  \n",
        "- `Residence_type`  \n",
        "- `avg_glucose_level`  \n",
        "- `bmi`  \n",
        "- `smoking_status`\n",
        "\n",
        "Estas se utilizarán para predecir la variable **`stroke`**.\n",
        "\n",
        "---\n",
        "\n",
        "### Pasos a seguir:\n",
        "\n",
        "1. **Conversión de variables categóricas**  \n",
        "   El modelo solo puede trabajar con variables numéricas, por lo que las variables categóricas se transforman a formato numérico mediante codificación (indexación y one-hot encoding).\n",
        "\n",
        "2. **Ensamblado de características**  \n",
        "   Se unifican todas las variables independientes (numéricas y codificadas) en una sola columna mediante un vector de características.\n",
        "\n",
        "3. **Definición del modelo**  \n",
        "   Se define el modelo de regresión logística especificando las columnas de entrada (`features`) y salida (`label`).\n",
        "\n",
        "4. **Creación del pipeline**  \n",
        "   Se construye un pipeline que integra las transformaciones de datos y el modelo de regresión.\n",
        "\n",
        "5. **División del dataset**  \n",
        "   El conjunto de datos se divide en datos de entrenamiento y de prueba.\n",
        "\n",
        "6. **Entrenamiento del modelo**  \n",
        "   Se entrena el pipeline con el conjunto de entrenamiento, aplicando todas las transformaciones y el ajuste del modelo.\n",
        "\n",
        "7. **Predicción y evaluación**  \n",
        "   Se utiliza el modelo entrenado para predecir la variable dependiente (`stroke`) en el conjunto de prueba, y se muestran los resultados de la predicción.\n"
      ],
      "metadata": {
        "id": "IQebahWwm9BC"
      }
    },
    {
      "cell_type": "code",
      "source": [
        "df02.columns"
      ],
      "metadata": {
        "colab": {
          "base_uri": "https://localhost:8080/"
        },
        "id": "2ZqJjSzDKDoK",
        "outputId": "7f7257f8-2b1d-4bf1-e7b0-a83b9e71fa1e"
      },
      "execution_count": null,
      "outputs": [
        {
          "output_type": "execute_result",
          "data": {
            "text/plain": [
              "['id',\n",
              " 'gender',\n",
              " 'age',\n",
              " 'hypertension',\n",
              " 'heart_disease',\n",
              " 'ever_married',\n",
              " 'work_type',\n",
              " 'Residence_type',\n",
              " 'avg_glucose_level',\n",
              " 'bmi',\n",
              " 'smoking_status',\n",
              " 'stroke']"
            ]
          },
          "metadata": {},
          "execution_count": 65
        }
      ]
    },
    {
      "cell_type": "code",
      "source": [
        "from pyspark.ml import Pipeline\n",
        "from pyspark.ml.classification import LogisticRegression\n",
        "from pyspark.ml.feature import StringIndexer, OneHotEncoder, VectorAssembler\n",
        "from pyspark.ml.evaluation import MulticlassClassificationEvaluator\n",
        "\n",
        "categoricalCols = ['gender', 'ever_married', 'work_type', 'Residence_type', 'smoking_status']\n",
        "numericCols = ['age', 'hypertension', 'heart_disease', 'avg_glucose_level', 'bmi']\n",
        "\n",
        "# Indexar y codificar las variables categóricas\n",
        "indexers = [StringIndexer(inputCol=col, outputCol=col + \"_Index\", handleInvalid=\"keep\") for col in categoricalCols]\n",
        "encoders = [OneHotEncoder(inputCol=col + \"_Index\", outputCol=col + \"_Vec\") for col in categoricalCols]\n",
        "\n",
        "# Ensamblar características\n",
        "assemblerInputs = numericCols + [col + \"_Vec\" for col in categoricalCols]\n",
        "assembler = VectorAssembler(inputCols=assemblerInputs, outputCol=\"features\")\n",
        "\n",
        "#  Modelo de regresión logística\n",
        "Modelolr = LogisticRegression(featuresCol='features', labelCol='stroke', maxIter=10)\n",
        "\n",
        "#  Pipeline completo\n",
        "pipeline = Pipeline(stages=indexers + encoders + [assembler, Modelolr])\n",
        "\n",
        "#  División de los datos (80% entrenamiento, 20% prueba)\n",
        "train_data, test_data = df02.randomSplit([0.8, 0.2], seed=42)\n",
        "\n",
        "#  Entrenamiento del modelo\n",
        "modelo_entrenado = pipeline.fit(train_data)\n",
        "\n",
        "#  Predicciones\n",
        "results_ModeloA = modelo_entrenado.transform(test_data)\n",
        "results_ModeloA.select(\"stroke\", \"prediction\", \"probability\").show(10)"
      ],
      "metadata": {
        "colab": {
          "base_uri": "https://localhost:8080/"
        },
        "id": "QlrlUFb3txeA",
        "outputId": "f1848288-5c52-4919-c2b1-0996fb1ac6e7"
      },
      "execution_count": null,
      "outputs": [
        {
          "output_type": "stream",
          "name": "stdout",
          "text": [
            "+------+----------+--------------------+\n",
            "|stroke|prediction|         probability|\n",
            "+------+----------+--------------------+\n",
            "|     0|       0.0|[0.96936819850976...|\n",
            "|     0|       0.0|[0.99645781084863...|\n",
            "|     0|       0.0|[0.99393406028336...|\n",
            "|     0|       0.0|[0.98727220031075...|\n",
            "|     0|       0.0|[0.76097305944069...|\n",
            "|     0|       0.0|[0.98661666885303...|\n",
            "|     0|       0.0|[0.88425359434421...|\n",
            "|     1|       0.0|[0.93496693460073...|\n",
            "|     0|       0.0|[0.99825108913715...|\n",
            "|     0|       0.0|[0.86254201718851...|\n",
            "+------+----------+--------------------+\n",
            "only showing top 10 rows\n",
            "\n"
          ]
        }
      ]
    },
    {
      "cell_type": "markdown",
      "source": [
        "#Evaluacion de Metricas"
      ],
      "metadata": {
        "id": "hFgWMyWtehUK"
      }
    },
    {
      "cell_type": "markdown",
      "source": [
        "Al haber usado un modelo de regresion lineal, se procede a usar metricas para modelos de clasificaion, de esta forma se podra saber que tan bueno es el modelo en predecir la varaible dependiente y en caso de ser necesario re-ajustar o cambiar de modelo.\n",
        "\n",
        "Se hace un resumen de la cantidad y su proporcion de valores que predijo el modelo y lo mismo con respecto al dataset orginal\n",
        "\n",
        "Se crea un matriz de confusion para evaluar los dos tipos de error que puede cometer un modelo de machine learning.\n",
        "\n",
        "Ademas se corrobora usando las metricas de roc, f1 y recall, precision y accuracy"
      ],
      "metadata": {
        "id": "eKqvGkc2dIVH"
      }
    },
    {
      "cell_type": "markdown",
      "source": [
        "## Resultados del modelo"
      ],
      "metadata": {
        "id": "XCaaU-5OmBbU"
      }
    },
    {
      "cell_type": "code",
      "source": [
        "# porcentajes de 0 y 1 en columna prediction de resultados del ModeloA\n",
        "prediction_counts = results_ModeloA.groupBy('prediction').count()\n",
        "total_predictions = results_ModeloA.count()\n",
        "\n",
        "prediction_percentages = prediction_counts.withColumn(\n",
        "    \"percentage\", col(\"count\") / total_predictions * 100\n",
        ")\n",
        "\n",
        "# Muestra el resultado\n",
        "prediction_percentages.show()\n"
      ],
      "metadata": {
        "colab": {
          "base_uri": "https://localhost:8080/"
        },
        "id": "fW58M-z7vuVj",
        "outputId": "e834a152-1425-4322-89d6-15990d6d1b3c"
      },
      "execution_count": null,
      "outputs": [
        {
          "output_type": "stream",
          "name": "stdout",
          "text": [
            "+----------+-----+-------------------+\n",
            "|prediction|count|         percentage|\n",
            "+----------+-----+-------------------+\n",
            "|       0.0|  986|  99.89868287740629|\n",
            "|       1.0|    1|0.10131712259371835|\n",
            "+----------+-----+-------------------+\n",
            "\n"
          ]
        }
      ]
    },
    {
      "cell_type": "markdown",
      "source": [
        "Se analiza que en su totalidad, el modelo predijo a solo un valor como verdadero ( stroke ). Esto nos indica una posible sospecha de que algo esta pasando."
      ],
      "metadata": {
        "id": "j2dq1ZpqeJAC"
      }
    },
    {
      "cell_type": "markdown",
      "source": [
        "## Dataset Orginial y como compara con el modelo\n"
      ],
      "metadata": {
        "id": "X2JGeHXVeh-h"
      }
    },
    {
      "cell_type": "code",
      "source": [
        "stroke_counts = df02.groupBy('stroke').count()\n",
        "total_rows = df02.count()\n",
        "stroke_percentage = stroke_counts.withColumn(\"percentage\", col(\"count\") / total_rows * 100)\n",
        "\n",
        "# Muestra el resultado\n",
        "stroke_percentage.show()"
      ],
      "metadata": {
        "colab": {
          "base_uri": "https://localhost:8080/"
        },
        "id": "4QBpytgdvAsb",
        "outputId": "d45ba24a-9644-45bc-d8e4-31800b9e5cc7"
      },
      "execution_count": null,
      "outputs": [
        {
          "output_type": "stream",
          "name": "stdout",
          "text": [
            "+------+-----+-----------------+\n",
            "|stroke|count|       percentage|\n",
            "+------+-----+-----------------+\n",
            "|     1|  249|4.873752201996477|\n",
            "|     0| 4860|95.12624779800353|\n",
            "+------+-----+-----------------+\n",
            "\n"
          ]
        }
      ]
    },
    {
      "cell_type": "markdown",
      "source": [
        "Analizando la dataset orignial podemos ver la propocion de l muestra entre perosnas con stroke y no. La proporcion predicho de stroke por el modelo esta vagamente cerca a la de los datos reales. 4.9 vs 0.1."
      ],
      "metadata": {
        "id": "WiWYM6y8mYRG"
      }
    },
    {
      "cell_type": "markdown",
      "source": [
        "## Análisis de la matriz de confusión"
      ],
      "metadata": {
        "id": "YxCZb73SmuM8"
      }
    },
    {
      "cell_type": "code",
      "source": [
        "# Calcular la matriz de confusión\n",
        "from pyspark.sql.functions import col\n",
        "\n",
        "confusion_df = results_ModeloA.groupBy(\"stroke\", \"prediction\").count().orderBy(\"stroke\", \"prediction\")\n",
        "confusion_df.show()"
      ],
      "metadata": {
        "colab": {
          "base_uri": "https://localhost:8080/"
        },
        "id": "0R_08L0wfCSW",
        "outputId": "297784dd-4dc4-4df6-cce4-64cded4c0fcf"
      },
      "execution_count": null,
      "outputs": [
        {
          "output_type": "stream",
          "name": "stdout",
          "text": [
            "+------+----------+-----+\n",
            "|stroke|prediction|count|\n",
            "+------+----------+-----+\n",
            "|     0|       0.0|  933|\n",
            "|     1|       0.0|   53|\n",
            "|     1|       1.0|    1|\n",
            "+------+----------+-----+\n",
            "\n"
          ]
        }
      ]
    },
    {
      "cell_type": "markdown",
      "source": [
        "\n",
        "La matriz de confusión muestra que el modelo predice correctamente la mayoría de los casos negativos (`stroke = 0`), pero falla en identificar los casos positivos (`stroke = 1`):\n",
        "\n",
        "| stroke | prediction | count |\n",
        "|--------|------------|-------|\n",
        "|   0    |     0.0    |  933  |\n",
        "|   1    |     0.0    |   53  |\n",
        "|   1    |     1.0    |    1  |\n",
        "\n",
        "Esto indica que el modelo tiene una **muy baja sensibilidad** (mide qué proporción de los verdaderos positivos logró detectar.) ya que solo detectó 1 de los 54 casos reales de stroke.\n",
        "\n",
        "Este comportamiento se explica por el **fuerte desbalance en el dataset**, donde aproximadamente el **95.1% de los registros corresponden a casos negativos y solo el 4.9% a casos positivos**. En estos escenarios, los modelos tienden a favorecer la clase mayoritaria para minimizar el error global, aunque esto sacrifica la capacidad de detección de eventos importantes.\n",
        "\n",
        "**Conclusión**: aunque el modelo tiene un alto número de aciertos en la clase negativa, **su utilidad es limitada** si no se toman acciones para abordar el desbalance, ya que **ignora casi por completo los casos que realmente queremos identificar.**\n"
      ],
      "metadata": {
        "id": "wF9W0a5-ipQb"
      }
    },
    {
      "cell_type": "markdown",
      "source": [
        "## Evaluación del modelo con AUC-ROC"
      ],
      "metadata": {
        "id": "qO9X4KAom74S"
      }
    },
    {
      "cell_type": "code",
      "source": [
        "from pyspark.ml.evaluation import BinaryClassificationEvaluator\n",
        "\n",
        "# Inicializar el evaluador para AUC-ROC\n",
        "evaluator = BinaryClassificationEvaluator(labelCol=\"stroke\", rawPredictionCol=\"rawPrediction\", metricName=\"areaUnderROC\")\n",
        "\n",
        "# Calcular el AUC-ROC\n",
        "auc_roc = evaluator.evaluate(results_ModeloA)\n",
        "\n",
        "print(f\"AUC-ROC: {auc_roc}\")"
      ],
      "metadata": {
        "colab": {
          "base_uri": "https://localhost:8080/"
        },
        "id": "UJibNqTCuJaa",
        "outputId": "30a42a07-a62a-4a1d-bd01-d085b40626f2"
      },
      "execution_count": null,
      "outputs": [
        {
          "output_type": "stream",
          "name": "stdout",
          "text": [
            "AUC-ROC: 0.823945059743563\n"
          ]
        }
      ]
    },
    {
      "cell_type": "markdown",
      "source": [
        "El **AUC-ROC (Área Bajo la Curva ROC)** es una métrica que evalúa la capacidad del modelo para distinguir entre las clases positiva y negativa. Su valor oscila entre 0 y 1, donde **1 indica una clasificación perfecta** y **0.5 representa un modelo sin capacidad discriminativa (equivalente al azar)**.\n",
        "\n",
        "En este caso, el modelo obtuvo un **AUC-ROC de aproximadamente 0.82**, lo cual sugiere que, a pesar del fuerte desbalance en las clases y la baja sensibilidad observada en la matriz de confusión, **el modelo tiene una buena capacidad general para distinguir entre personas con y sin accidente cerebrovascular**.\n",
        "\n",
        "Esto indica que el modelo sí está captando patrones útiles, aunque su rendimiento puede mejorar.\n"
      ],
      "metadata": {
        "id": "mU6ZXZBKloo4"
      }
    },
    {
      "cell_type": "markdown",
      "source": [
        "## Evaluación con métricas clásicas de clasificación"
      ],
      "metadata": {
        "id": "dTcIVydmn2Sn"
      }
    },
    {
      "cell_type": "code",
      "source": [
        "evaluator_acc = MulticlassClassificationEvaluator(labelCol=\"stroke\", predictionCol=\"prediction\", metricName=\"accuracy\")\n",
        "evaluator_precision = MulticlassClassificationEvaluator(labelCol=\"stroke\", predictionCol=\"prediction\", metricName=\"weightedPrecision\")\n",
        "evaluator_recall = MulticlassClassificationEvaluator(labelCol=\"stroke\", predictionCol=\"prediction\", metricName=\"weightedRecall\")\n",
        "evaluator_f1 = MulticlassClassificationEvaluator(labelCol=\"stroke\", predictionCol=\"prediction\", metricName=\"f1\")\n",
        "\n",
        "# Imprimir métricas\n",
        "print(\"Accuracy: \", evaluator_acc.evaluate(results_ModeloA))\n",
        "print(\"Precision: \", evaluator_precision.evaluate(results_ModeloA))\n",
        "print(\"Recall: \", evaluator_recall.evaluate(results_ModeloA))\n",
        "print(\"F1 Score: \", evaluator_f1.evaluate(results_ModeloA))\n"
      ],
      "metadata": {
        "colab": {
          "base_uri": "https://localhost:8080/"
        },
        "id": "79RJ2ygpuHn_",
        "outputId": "1de695f6-31b1-4ee4-f790-a0f8de620fcc"
      },
      "execution_count": null,
      "outputs": [
        {
          "output_type": "stream",
          "name": "stdout",
          "text": [
            "Accuracy:  0.9463019250253293\n",
            "Precision:  0.9491883327065235\n",
            "Recall:  0.9463019250253293\n",
            "F1 Score:  0.9211707476938703\n"
          ]
        }
      ]
    },
    {
      "cell_type": "markdown",
      "source": [
        "A pesar del fuerte desbalance de clases (4.9% positivos), estas métricas muestran valores altos. Sin embargo, dado el resultado de la matriz de confusión (donde solo se detectó 1 caso real de `stroke`), esto indica que estas métricas pueden ser engañosas, ya que están influenciadas por la alta proporción de casos negativos, lo que reduce su confiabilidad para evaluar el desempeño sobre la clase minoritaria.\n",
        "\n",
        "**Conclusión**: el modelo obtiene buenos resultados en métricas agregadas, pero aún tiene **limitaciones importantes para identificar correctamente los casos positivos de `stroke`**, lo cual es crítico en aplicaciones de salud."
      ],
      "metadata": {
        "id": "yhbTM1M_n5qm"
      }
    },
    {
      "cell_type": "markdown",
      "source": [
        "## Conclusión\n"
      ],
      "metadata": {
        "id": "fA1mc6mVpvA8"
      }
    },
    {
      "cell_type": "markdown",
      "source": [
        "El desarrollo de un proyecto de ciencia de datos implica una serie de pasos que deben ejecutarse con cuidado para obtener resultados valiosos. Uno de estos pasos clave es la evaluación de los modelos de predicción que se crean y entrenan durante el proceso. Para ello, el uso de métricas es fundamental, ya que permiten medir el desempeño del modelo y guiar su mejora, especialmente en contextos donde la precisión es crucial. Por esta razón, comprender qué miden estas métricas, cómo se interpretan y qué factores considerar al aplicarlas, resulta aún más importante. En este taller se utilizaron métricas específicas para modelos de clasificación, dada la naturaleza del conjunto de datos, y se logró interpretarlas de forma que aporten valor para el desarrollo y mejora de futuros modelos."
      ],
      "metadata": {
        "id": "1kf28h_Mp1YD"
      }
    }
  ],
  "metadata": {
    "application/vnd.databricks.v1+notebook": {
      "computePreferences": null,
      "dashboards": [],
      "environmentMetadata": {
        "base_environment": "",
        "environment_version": "1"
      },
      "inputWidgetPreferences": null,
      "language": "python",
      "notebookMetadata": {
        "pythonIndentUnit": 4
      },
      "notebookName": "Hurtado_febrero_2025",
      "widgets": {}
    },
    "colab": {
      "provenance": [],
      "collapsed_sections": [
        "ptGskoGCiKmK",
        "hkEEQ0zOefs8",
        "eRmKmd_Nt3Y-"
      ]
    },
    "language_info": {
      "name": "python"
    },
    "kernelspec": {
      "name": "python3",
      "display_name": "Python 3"
    }
  },
  "nbformat": 4,
  "nbformat_minor": 0
}