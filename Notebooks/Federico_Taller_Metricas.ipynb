{
  "nbformat": 4,
  "nbformat_minor": 0,
  "metadata": {
    "colab": {
      "provenance": []
    },
    "kernelspec": {
      "name": "python3",
      "display_name": "Python 3"
    },
    "language_info": {
      "name": "python"
    }
  },
  "cells": [
    {
      "cell_type": "markdown",
      "source": [
        "![LOGO_PUJ.png](data:image/png;base64,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)\n",
        "***Pontificia Universidad Javeriana***\n",
        "# **Procesamiento de Alto Volumen de Datos**\n",
        "\n",
        "### Taller: **Métricas de Rendimiento para Modelos de Clasificación con PySpark**\n",
        "\n",
        "Autor: Federico Quiroga\n",
        "\n",
        "Fecha: 19/05/2025\n",
        "\n",
        "**Objetivo**: Evaluar modelo de clasificación MLlib\n",
        "\n",
        "- La clasificación se utiliza para clasificar datos en etiquetas o clases predefinidas. Para evaluar el rendimiento de un modelo de clasificación se suelen utilizar métricas como: accuracy, precision, recall, F1 score y la matriz de confusión. Estas métricas son útiles para evaluar lo bien que el modelo distingue entre clases, especialmente en casos de conjuntos de datos desequilibrados. Al conocer los puntos fuertes y débiles de cada métrica, se podrá seleccionar la más adecuada para un problema de clasificación determinado.\n",
        "\n",
        "- MLlib de PySpark, se presenta un conjunto de clases: BinaryClassificationEvaluator, MulticlassificationEvaluator, y RegressionEvaluator-diseñadas para evaluar el rendimiento de los modelos de aprendizaje automático calculando métricas específicas a partir de predicciones y etiquetas verdaderas. Se utilizan para evaluar modelos entrenados con estimadores como RandomForestClassifier o GBTRegressor, tomando un DataFrame con valores predichos y reales para producir una única puntuación de rendimiento. Ejecutados a través de una SparkSession, aprovechan los ejecutores de Spark para la computación distribuida, lo que los hace ideales para **BIG DATA** de fuentes como archivos CSV o Parquet. Se integran en herramientas de ajuste como CrossValidator y TrainValidationSplit, ofreciendo una solución escalable para la evaluación de modelos.\n",
        "____________________________________________________"
      ],
      "metadata": {
        "id": "jMm8j1zH9nTE"
      }
    },
    {
      "cell_type": "markdown",
      "source": [
        "### Introducción\n",
        "\n",
        "\n",
        "ión\n",
        "\n",
        "Este taller tiene como objetivo desarrollar un **modelo predictivo sólido** que permita determinar la probabilidad de que una persona presente una enfermedad cardíaca, a partir de diversas variables relacionadas con su estado de salud.\n",
        "\n",
        "El proceso abarca todas las etapas clave de un proyecto de ciencia de datos: desde el análisis exploratorio, pasando por la limpieza y transformación de los datos, hasta la construcción y evaluación del modelo. Cada una de estas fases se presenta con explicaciones detalladas, haciendo énfasis en los pasos más relevantes para la toma de decisiones.\n",
        "\n",
        "Además de construir el modelo, se incluye un análisis crítico de su desempeño mediante métricas de evaluación adecuadas, lo que permite reflexionar sobre su utilidad práctica y posibles mejoras."
      ],
      "metadata": {
        "id": "6iA2NEA5nrI1"
      }
    },
    {
      "cell_type": "markdown",
      "source": [
        "### Setup notebook"
      ],
      "metadata": {
        "id": "ss3VojPmH5JO"
      }
    },
    {
      "cell_type": "markdown",
      "source": [
        "**1.- Crear sessión PySpark**\n",
        "\n",
        "\n",
        "\n",
        "```\n",
        "from pyspark.sql.functions import col, when, avg\n",
        "from pyspark.sql import SparkSession\n",
        "\n",
        "spark = SparkSession.builder.appName(\"Taller_Metricas\").getOrCreate()\n",
        "\n",
        "cores = spark._jsc.sc().getExecutorMemoryStatus().keySet().size()\n",
        "print(\"Ejcución de las tareas en \", cores, \"core(s) del sistema de cómputo actual\")\n",
        "spark\n",
        "```\n",
        "\n"
      ],
      "metadata": {
        "id": "o886sDVt_81C"
      }
    },
    {
      "cell_type": "code",
      "execution_count": null,
      "metadata": {
        "id": "fUJTGTwe5bJ6",
        "colab": {
          "base_uri": "https://localhost:8080/",
          "height": 237
        },
        "outputId": "5f01ea5a-0dcb-4701-b911-bf4b703d9a15"
      },
      "outputs": [
        {
          "output_type": "stream",
          "name": "stdout",
          "text": [
            "Ejcución de las tareas en  1 core(s) del sistema de cómputo actual\n"
          ]
        },
        {
          "output_type": "execute_result",
          "data": {
            "text/plain": [
              "<pyspark.sql.session.SparkSession at 0x7d5392525b90>"
            ],
            "text/html": [
              "\n",
              "            <div>\n",
              "                <p><b>SparkSession - in-memory</b></p>\n",
              "                \n",
              "        <div>\n",
              "            <p><b>SparkContext</b></p>\n",
              "\n",
              "            <p><a href=\"http://9149e69c53e6:4040\">Spark UI</a></p>\n",
              "\n",
              "            <dl>\n",
              "              <dt>Version</dt>\n",
              "                <dd><code>v3.5.1</code></dd>\n",
              "              <dt>Master</dt>\n",
              "                <dd><code>local[*]</code></dd>\n",
              "              <dt>AppName</dt>\n",
              "                <dd><code>Taller_Metricas</code></dd>\n",
              "            </dl>\n",
              "        </div>\n",
              "        \n",
              "            </div>\n",
              "        "
            ]
          },
          "metadata": {},
          "execution_count": 9
        }
      ],
      "source": [
        "# Se importan las funciones de sql necesarias para transformar el dataset.\n",
        "from pyspark.sql.functions import col, when, avg, count, isnan, isnull\n",
        "from pyspark.sql import SparkSession\n",
        "\n",
        "spark = SparkSession.builder.appName(\"Taller_Metricas\").getOrCreate()\n",
        "\n",
        "cores = spark._jsc.sc().getExecutorMemoryStatus().keySet().size()\n",
        "print(\"Ejcución de las tareas en \", cores, \"core(s) del sistema de cómputo actual\")\n",
        "spark"
      ]
    },
    {
      "cell_type": "markdown",
      "source": [
        "**2.-Cargar DataFrame Spark:**\n",
        "- Enlace de datos: https://github.com/corredor-john/ExploratoryDataAnalisys/blob/main/Varios/heart_taller_eval_PySpark.csv\n",
        "\n",
        "```\n",
        "from pyspark import SparkFiles\n",
        "url_github = \"Enlace de datos\"\n",
        "\n",
        "spark.sparkContext.addFile(url_github)\n",
        "df00 = spark.read.csv(SparkFiles.get(\"fichero.csv\"),inferSchema=True, header=True)\n",
        "df00.show(5)\n",
        "```"
      ],
      "metadata": {
        "id": "mx1yUKjD_5-w"
      }
    },
    {
      "cell_type": "code",
      "source": [
        "from google.colab import drive\n",
        "drive.mount('/content/drive')\n",
        "\n",
        "# Ruta al archivo CSV en Google Drive\n",
        "HeartD_File_path = \"/content/drive/MyDrive/Colab Notebooks/EXTRA/Prosesamiento datos Datasets/Heart_disease.csv\"\n",
        "\n",
        "df00 = spark.read.csv(HeartD_File_path, header=True, inferSchema=True)\n",
        "\n",
        "\n"
      ],
      "metadata": {
        "id": "C_7uU-OWAeOk",
        "colab": {
          "base_uri": "https://localhost:8080/"
        },
        "outputId": "04776d80-3989-4aa1-99ea-1521b4960f25"
      },
      "execution_count": null,
      "outputs": [
        {
          "output_type": "stream",
          "name": "stdout",
          "text": [
            "Drive already mounted at /content/drive; to attempt to forcibly remount, call drive.mount(\"/content/drive\", force_remount=True).\n",
            "+---+---+-------------+---------+-----------+---------+----------+-----+--------------+-------+--------+------------+\n",
            "|Age|Sex|ChestPainType|RestingBP|Cholesterol|FastingBS|RestingECG|MaxHR|ExerciseAngina|Oldpeak|ST_Slope|HeartDisease|\n",
            "+---+---+-------------+---------+-----------+---------+----------+-----+--------------+-------+--------+------------+\n",
            "| 40|  M|          ATA|      140|        289|        0|    Normal|  172|             N|    0.0|      Up|           0|\n",
            "| 49|  F|          NAP|      160|        180|        0|    Normal|  156|             N|    1.0|    Flat|           1|\n",
            "| 37|  M|          ATA|      130|        283|        0|        ST|   98|             N|    0.0|      Up|           0|\n",
            "| 48|  F|          ASY|      138|        214|        0|    Normal|  108|             Y|    1.5|    Flat|           1|\n",
            "| 54|  M|          NAP|      150|        195|        0|    Normal|  122|             N|    0.0|      Up|           0|\n",
            "+---+---+-------------+---------+-----------+---------+----------+-----+--------------+-------+--------+------------+\n",
            "only showing top 5 rows\n",
            "\n"
          ]
        }
      ]
    },
    {
      "cell_type": "markdown",
      "source": [
        "### Analisis exploratorio"
      ],
      "metadata": {
        "id": "hp4rEUqvIKHE"
      }
    },
    {
      "cell_type": "code",
      "source": [
        "# Muestra las primeras filas del DataFrame\n",
        "df00.show(5)"
      ],
      "metadata": {
        "colab": {
          "base_uri": "https://localhost:8080/"
        },
        "id": "Q4xPomSnIXDu",
        "outputId": "9e4a3fa2-1570-4151-a3b4-bc38575c71fc"
      },
      "execution_count": null,
      "outputs": [
        {
          "output_type": "stream",
          "name": "stdout",
          "text": [
            "+---+---+-------------+---------+-----------+---------+----------+-----+--------------+-------+--------+------------+\n",
            "|Age|Sex|ChestPainType|RestingBP|Cholesterol|FastingBS|RestingECG|MaxHR|ExerciseAngina|Oldpeak|ST_Slope|HeartDisease|\n",
            "+---+---+-------------+---------+-----------+---------+----------+-----+--------------+-------+--------+------------+\n",
            "| 40|  M|          ATA|      140|        289|        0|    Normal|  172|             N|    0.0|      Up|           0|\n",
            "| 49|  F|          NAP|      160|        180|        0|    Normal|  156|             N|    1.0|    Flat|           1|\n",
            "| 37|  M|          ATA|      130|        283|        0|        ST|   98|             N|    0.0|      Up|           0|\n",
            "| 48|  F|          ASY|      138|        214|        0|    Normal|  108|             Y|    1.5|    Flat|           1|\n",
            "| 54|  M|          NAP|      150|        195|        0|    Normal|  122|             N|    0.0|      Up|           0|\n",
            "+---+---+-------------+---------+-----------+---------+----------+-----+--------------+-------+--------+------------+\n",
            "only showing top 5 rows\n",
            "\n"
          ]
        }
      ]
    },
    {
      "cell_type": "markdown",
      "source": [
        "Descripión de variables:\n",
        "\n",
        "1. **Age**: Edad del paciente, expresada en años.\n",
        "\n",
        "2. **Sex**: Sexo biológico del paciente. Se representa como:\n",
        "   - 'M' para masculino.\n",
        "   - 'F' para femenino.\n",
        "\n",
        "3. **ChestPainType**: Tipo de dolor en el pecho reportado. Categorías:\n",
        "   - 'ATA' (Angina típica)\n",
        "   - 'NAP' (Angina atípica)\n",
        "   - 'ASY' (Asintomático)\n",
        "   - 'TA' (Dolor no anginoso)\n",
        "\n",
        "4. **RestingBP**: Presión arterial en reposo del paciente (en mm Hg) tomada al momento de la consulta.\n",
        "\n",
        "5. **Cholesterol**: Nivel de colesterol sérico en mg/dl.\n",
        "\n",
        "6. **FastingBS**: Nivel de azúcar en sangre en ayunas. Se codifica como:\n",
        "   - 1 si es mayor a 120 mg/dl.\n",
        "   - 0 en caso contrario.\n",
        "\n",
        "7. **RestingECG**: Resultados del electrocardiograma en reposo. Valores posibles:\n",
        "   - 'Normal'\n",
        "   - 'ST' (Anomalías en la onda ST-T)\n",
        "   - 'LVH' (Hipertrofia ventricular izquierda)\n",
        "\n",
        "8. **MaxHR**: Frecuencia cardiaca máxima alcanzada durante el ejercicio.\n",
        "\n",
        "9. **ExerciseAngina**: Angina inducida por ejercicio. Codificada como:\n",
        "   - 'Y' para Sí.\n",
        "   - 'N' para No.\n",
        "\n",
        "10. **Oldpeak**: Depresión del segmento ST medida durante el esfuerzo, en relación con el reposo. Cuantifica la desviación del ST en unidades.\n",
        "\n",
        "11. **ST_Slope**: Pendiente del segmento ST durante el ejercicio. Categorías:\n",
        "    - 'Up' (ascendente)\n",
        "    - 'Flat' (plana)\n",
        "    - 'Down' (descendente)\n",
        "\n",
        "12. **HeartDisease**: Variable objetivo. Indica la presencia de enfermedad cardíaca:\n",
        "    - 1 para diagnóstico positivo de enfermedad cardíaca.\n",
        "    - 0 en caso contrario.\n"
      ],
      "metadata": {
        "id": "0dK3xHTKIYVS"
      }
    },
    {
      "cell_type": "markdown",
      "source": [
        "**3.- Revisión de Datos Nulos o Imposibles:**\n",
        "\n",
        "\n",
        "```\n",
        "from pyspark.sql.functions import *\n",
        "\n",
        "df3.select([count(when(col(c).contains('None') |\n",
        "col(c).contains('NULL') |\n",
        "(col(c) == '' ) |\n",
        "col(c).isNull() | isnan(c), c )).alias(c)\n",
        "for c in df34.columns]).show()\n",
        ")\n",
        "```"
      ],
      "metadata": {
        "id": "PM8PKgzJBsAs"
      }
    },
    {
      "cell_type": "code",
      "source": [
        "df00.select([count(when(col(c).contains('None') |\n",
        "col(c).contains('NULL') |\n",
        "(col(c) == '' ) |\n",
        "col(c).isNull() | isnan(c), c )).alias(c)\n",
        "for c in df00.columns]).show()\n"
      ],
      "metadata": {
        "id": "1sw8T-KPCfMW",
        "colab": {
          "base_uri": "https://localhost:8080/"
        },
        "outputId": "4654138a-2ad4-45a8-b534-4c7ee70e8531"
      },
      "execution_count": null,
      "outputs": [
        {
          "output_type": "stream",
          "name": "stdout",
          "text": [
            "+---+---+-------------+---------+-----------+---------+----------+-----+--------------+-------+--------+------------+\n",
            "|Age|Sex|ChestPainType|RestingBP|Cholesterol|FastingBS|RestingECG|MaxHR|ExerciseAngina|Oldpeak|ST_Slope|HeartDisease|\n",
            "+---+---+-------------+---------+-----------+---------+----------+-----+--------------+-------+--------+------------+\n",
            "|  0|  0|            0|        0|          0|        0|         0|    0|             0|      0|       0|           0|\n",
            "+---+---+-------------+---------+-----------+---------+----------+-----+--------------+-------+--------+------------+\n",
            "\n"
          ]
        }
      ]
    },
    {
      "cell_type": "markdown",
      "source": [
        "Como se observa en la tabla, no se encontraron valores nulos, vacíos ni inválidos en ninguna de las columnas del dataset. Por lo tanto, no es necesario realizar procesos adicionales de limpieza relacionados con datos faltantes."
      ],
      "metadata": {
        "id": "yyCNdc_rDrZT"
      }
    },
    {
      "cell_type": "markdown",
      "source": [
        "**4.- Relación entre las variables**\n",
        "- Escriba algunas apreciaciones de las relaciones\n",
        "\n",
        "\n",
        "```\n",
        "import matplotlib\n",
        "import seaborn\n",
        "\n",
        "plt.figure(figsize =(X,x))\n",
        "vista_pandas = df6.toPandas()\n",
        "sns.heatmap(vista_pandas.select_dtypes(np.number).corr(), annot=True, center=0, cmap ='RdYlGn')\n",
        "```"
      ],
      "metadata": {
        "id": "WmfamSKBDVkV"
      }
    },
    {
      "cell_type": "code",
      "source": [
        "import matplotlib.pyplot as plt\n",
        "import seaborn as sns\n",
        "import numpy as np\n",
        "plt.figure(figsize =(6,8))\n",
        "vista_pandas = df00.toPandas()\n",
        "sns.heatmap(vista_pandas.select_dtypes(np.number).corr(), annot=True, center=0, cmap ='RdYlGn')"
      ],
      "metadata": {
        "id": "yjmuNTMqDNPR",
        "colab": {
          "base_uri": "https://localhost:8080/",
          "height": 778
        },
        "outputId": "27ff7f92-f890-4b45-ff82-b3b57686334a"
      },
      "execution_count": null,
      "outputs": [
        {
          "output_type": "execute_result",
          "data": {
            "text/plain": [
              "<Axes: >"
            ]
          },
          "metadata": {},
          "execution_count": 11
        },
        {
          "output_type": "display_data",
          "data": {
            "text/plain": [
              "<Figure size 600x800 with 2 Axes>"
            ],
            "image/png": "[encoded data removed]"
          },
          "metadata": {}
        }
      ]
    },
    {
      "cell_type": "markdown",
      "source": [
        "Se uso la matriz de correlación entre las variables numéricas del dataset para entender la relación entre las mismas.\n",
        "\n",
        "Este tipo de graficas permiten identificar la intensidad y dirección de las relaciones lineales entre pares de variables. Valores cercanos a 1 indican una correlación positiva fuerte, mientras que valores cercanos a -1 indican una correlación negativa fuerte.\n",
        "\n",
        "Se observa que:\n",
        "- La variable `HeartDisease` presenta una correlación negativa moderada con `MaxHR` (-0.40) y positiva moderada con `Oldpeak` (0.40), lo que podría indicar que una frecuencia cardiaca máxima más baja y un mayor nivel de depresión del ST están asociados con la presencia de enfermedad cardíaca.\n",
        "- `Age` también muestra correlaciones positivas débiles con `Oldpeak` (0.26) y `HeartDisease` (0.28), lo que sugiere una ligera tendencia de aumento en el riesgo cardíaco con la edad.\n",
        "- La mayoría de las demás correlaciones entre variables son débiles o muy bajas, lo que indica una baja colinealidad general entre los predictores.\n"
      ],
      "metadata": {
        "id": "Zq3rA9naGwbh"
      }
    },
    {
      "cell_type": "markdown",
      "source": [
        "### Ingeniería de características\n",
        "\n",
        "**5.- Consulte los tipos de datos**\n",
        "\n",
        "\n",
        "\n",
        "```\n",
        "dfBog.dtypes\n",
        "```"
      ],
      "metadata": {
        "id": "9HT_eOz3ELy-"
      }
    },
    {
      "cell_type": "code",
      "source": [
        "df00.show(5)"
      ],
      "metadata": {
        "colab": {
          "base_uri": "https://localhost:8080/"
        },
        "id": "8LE-jCYPKl5W",
        "outputId": "52307910-bcdb-47d8-8837-359dcd7363b4"
      },
      "execution_count": null,
      "outputs": [
        {
          "output_type": "stream",
          "name": "stdout",
          "text": [
            "+---+---+-------------+---------+-----------+---------+----------+-----+--------------+-------+--------+------------+\n",
            "|Age|Sex|ChestPainType|RestingBP|Cholesterol|FastingBS|RestingECG|MaxHR|ExerciseAngina|Oldpeak|ST_Slope|HeartDisease|\n",
            "+---+---+-------------+---------+-----------+---------+----------+-----+--------------+-------+--------+------------+\n",
            "| 40|  M|          ATA|      140|        289|        0|    Normal|  172|             N|    0.0|      Up|           0|\n",
            "| 49|  F|          NAP|      160|        180|        0|    Normal|  156|             N|    1.0|    Flat|           1|\n",
            "| 37|  M|          ATA|      130|        283|        0|        ST|   98|             N|    0.0|      Up|           0|\n",
            "| 48|  F|          ASY|      138|        214|        0|    Normal|  108|             Y|    1.5|    Flat|           1|\n",
            "| 54|  M|          NAP|      150|        195|        0|    Normal|  122|             N|    0.0|      Up|           0|\n",
            "+---+---+-------------+---------+-----------+---------+----------+-----+--------------+-------+--------+------------+\n",
            "only showing top 5 rows\n",
            "\n"
          ]
        }
      ]
    },
    {
      "cell_type": "code",
      "source": [
        "df00.dtypes"
      ],
      "metadata": {
        "id": "SoULLyiaEzEB",
        "colab": {
          "base_uri": "https://localhost:8080/"
        },
        "outputId": "4401f797-e395-4a77-a471-835adb898b43"
      },
      "execution_count": null,
      "outputs": [
        {
          "output_type": "execute_result",
          "data": {
            "text/plain": [
              "[('Age', 'int'),\n",
              " ('Sex', 'string'),\n",
              " ('ChestPainType', 'string'),\n",
              " ('RestingBP', 'int'),\n",
              " ('Cholesterol', 'int'),\n",
              " ('FastingBS', 'int'),\n",
              " ('RestingECG', 'string'),\n",
              " ('MaxHR', 'int'),\n",
              " ('ExerciseAngina', 'string'),\n",
              " ('Oldpeak', 'double'),\n",
              " ('ST_Slope', 'string'),\n",
              " ('HeartDisease', 'int')]"
            ]
          },
          "metadata": {},
          "execution_count": 13
        }
      ]
    },
    {
      "cell_type": "markdown",
      "source": [
        "**6.- Funciones para datos ETIQUETAS o categorías a Numéricos**\n",
        "- 6.1: Imprimir todas las columnas de Etiquetas del tipo string\n",
        "\n",
        "\n",
        "```\n",
        "dataframe.select('Columna_Str_A').distinct().show()\n",
        "dataframe.select('Columna_Str_H').distinct().show()\n",
        "```\n",
        "\n"
      ],
      "metadata": {
        "id": "rOWfBfseExTS"
      }
    },
    {
      "cell_type": "code",
      "source": [
        "df00.select('Sex').distinct().show()\n",
        "df00.select('ChestPainType').distinct().show()\n",
        "df00.select('ExerciseAngina').distinct().show()\n",
        "df00.select('RestingECG').distinct().show()\n",
        "df00.select('ST_Slope').distinct().show()"
      ],
      "metadata": {
        "id": "qnHAmmT8I-EF",
        "colab": {
          "base_uri": "https://localhost:8080/"
        },
        "outputId": "f944db47-acee-4c3f-f50e-637450e17f04"
      },
      "execution_count": null,
      "outputs": [
        {
          "output_type": "stream",
          "name": "stdout",
          "text": [
            "+---+\n",
            "|Sex|\n",
            "+---+\n",
            "|  F|\n",
            "|  M|\n",
            "+---+\n",
            "\n",
            "+-------------+\n",
            "|ChestPainType|\n",
            "+-------------+\n",
            "|          NAP|\n",
            "|          ATA|\n",
            "|           TA|\n",
            "|          ASY|\n",
            "+-------------+\n",
            "\n",
            "+--------------+\n",
            "|ExerciseAngina|\n",
            "+--------------+\n",
            "|             Y|\n",
            "|             N|\n",
            "+--------------+\n",
            "\n",
            "+----------+\n",
            "|RestingECG|\n",
            "+----------+\n",
            "|       LVH|\n",
            "|    Normal|\n",
            "|        ST|\n",
            "+----------+\n",
            "\n",
            "+--------+\n",
            "|ST_Slope|\n",
            "+--------+\n",
            "|    Flat|\n",
            "|      Up|\n",
            "|    Down|\n",
            "+--------+\n",
            "\n"
          ]
        }
      ]
    },
    {
      "cell_type": "markdown",
      "source": [
        "- 6.2: Usar la función para cambiar a dato numéricos\n",
        "\n",
        "```\n",
        "from pyspark.sql.types import *\n",
        "from pyspark.ml.feature import StringIndexer\n",
        "from pyspark.ml.feature import VectorAssembler\n",
        "\n",
        "def fun_Etiquetas(df):\n",
        "    trans_df = df.select(\"*\",(when(df.ExerciseAngina=='Y', 1).otherwise(0)).alias('yes_exercise_angina')\n",
        "                 ,(when(df.ChestPainType=='ATA', 1).otherwise(0)).alias('ata_chest_pain_type')\n",
        "              ,(when(df.ChestPainType=='ASY', 1).otherwise(0)).alias('asy_chest_pain_type')\n",
        "              ,(when(df.ST_Slope=='Up', 1).otherwise(0)).alias('up_st_slope')\n",
        "              ,(when(df.Sex=='F', 1).otherwise(0)).alias('f_sex')\n",
        "              ,(when(df.RestingECG=='ST', 1).otherwise(0)).alias('st_resting_ecg')\n",
        "                 )\n",
        "        .drop('ExerciseAngina','ChestPainType', 'ST_Slope', 'Sex', 'RestingECG')\n",
        "        .withColumnRenamed(\"HeartDisease\", 'label')\n",
        "\n",
        "features_list = trans_df.columns\n",
        "print(features_list)\n",
        "features_list.remove('label')\n",
        "assembler = VectorAssembler(inputCols=features_list,outputCol='features')\n",
        "vector_trans_df = assembler.transform(trans_df).select('features','label')\n",
        "    \n",
        "return vector_trans_df, trans_df\n",
        "\n",
        "\n",
        "vector_trans_df, trans_df = fun_Etiquetas(dataframes)\n",
        "```"
      ],
      "metadata": {
        "id": "2ETI4HCZKWu4"
      }
    },
    {
      "cell_type": "code",
      "source": [
        "# Importación de tipos de datos y transformadores de PySpark\n",
        "from pyspark.sql.types import *\n",
        "from pyspark.ml.feature import StringIndexer\n",
        "from pyspark.ml.feature import VectorAssembler\n",
        "\n",
        "# Función que transforma variables categóricas a variables dummy (0/1) y crea un vector de características\n",
        "def fun_Etiquetas(df):\n",
        "    # Crear nuevas columnas binarias a partir de variables categóricas\n",
        "    trans_df = df.select(\"*\",\n",
        "                 (when(df.ExerciseAngina == 'Y', 1).otherwise(0)).alias('yes_exercise_angina'),  # 1 si hay angina inducida por ejercicio\n",
        "                 (when(df.ChestPainType == 'ATA', 1).otherwise(0)).alias('ata_chest_pain_type'),  # 1 si el tipo de dolor es angina típica\n",
        "                 (when(df.ChestPainType == 'ASY', 1).otherwise(0)).alias('asy_chest_pain_type'),  # 1 si el tipo de dolor es asintomático\n",
        "                 (when(df.ST_Slope == 'Up', 1).otherwise(0)).alias('up_st_slope'),                # 1 si la pendiente ST es ascendente\n",
        "                 (when(df.Sex == 'F', 1).otherwise(0)).alias('f_sex'),                            # 1 si el sexo es femenino\n",
        "                 (when(df.RestingECG == 'ST', 1).otherwise(0)).alias('st_resting_ecg')           # 1 si el ECG muestra anormalidad ST\n",
        "             )\\\n",
        "        .drop('ExerciseAngina','ChestPainType', 'ST_Slope', 'Sex', 'RestingECG').withColumnRenamed(\"HeartDisease\", 'label')  # Renombrar la variable objetivo a 'label' para usarla en ML\n",
        "\n",
        "    # Obtener todas las columnas como lista\n",
        "    features_list = trans_df.columns\n",
        "    print(features_list)\n",
        "\n",
        "    # Eliminar la columna de salida (label) de la lista de características\n",
        "    features_list.remove('label')\n",
        "\n",
        "    # Crear una columna vector con todas las características para usar en modelos\n",
        "    assembler = VectorAssembler(inputCols=features_list, outputCol='features')\n",
        "\n",
        "    # Transformar el dataframe con la nueva columna 'features' y conservar solo 'features' y 'label'\n",
        "    vector_trans_df = assembler.transform(trans_df).select('features', 'label')\n",
        "\n",
        "    # Retornar el dataframe vectorizado y el transformado original\n",
        "    return vector_trans_df, trans_df\n",
        "\n",
        "# Llamar la función usando el dataframe original 'dataframes'\n",
        "vector_trans_df, trans_df = fun_Etiquetas(df00)\n"
      ],
      "metadata": {
        "id": "FvqeYvu3HdWp",
        "colab": {
          "base_uri": "https://localhost:8080/"
        },
        "outputId": "f7269226-30cb-4f58-a254-9b6cae2c571e"
      },
      "execution_count": null,
      "outputs": [
        {
          "output_type": "stream",
          "name": "stdout",
          "text": [
            "['Age', 'RestingBP', 'Cholesterol', 'FastingBS', 'MaxHR', 'Oldpeak', 'label', 'yes_exercise_angina', 'ata_chest_pain_type', 'asy_chest_pain_type', 'up_st_slope', 'f_sex', 'st_resting_ecg']\n"
          ]
        }
      ]
    },
    {
      "cell_type": "markdown",
      "source": [
        "6.3.- Imprimir 5 primeros valores de la transformación a vectores\n",
        "\n",
        "```\n",
        "vector_trans_df.show(n, False)\n",
        "\n",
        "```"
      ],
      "metadata": {
        "id": "xNtK8d_BMHf8"
      }
    },
    {
      "cell_type": "code",
      "source": [
        "vector_trans_df.show(5,False)"
      ],
      "metadata": {
        "id": "nImAZzWKMjJc",
        "colab": {
          "base_uri": "https://localhost:8080/"
        },
        "outputId": "82dd0615-13f2-465d-b337-c9761faab7ae"
      },
      "execution_count": null,
      "outputs": [
        {
          "output_type": "stream",
          "name": "stdout",
          "text": [
            "+--------------------------------------------------------+-----+\n",
            "|features                                                |label|\n",
            "+--------------------------------------------------------+-----+\n",
            "|(12,[0,1,2,4,7,9],[40.0,140.0,289.0,172.0,1.0,1.0])     |0    |\n",
            "|(12,[0,1,2,4,5,10],[49.0,160.0,180.0,156.0,1.0,1.0])    |1    |\n",
            "|[37.0,130.0,283.0,0.0,98.0,0.0,0.0,1.0,0.0,1.0,0.0,1.0] |0    |\n",
            "|[48.0,138.0,214.0,0.0,108.0,1.5,1.0,0.0,1.0,0.0,1.0,0.0]|1    |\n",
            "|(12,[0,1,2,4,9],[54.0,150.0,195.0,122.0,1.0])           |0    |\n",
            "+--------------------------------------------------------+-----+\n",
            "only showing top 5 rows\n",
            "\n"
          ]
        }
      ]
    },
    {
      "cell_type": "markdown",
      "source": [
        "Además de transformar las variables categóricas a formato numérico (mediante codificación binaria), el DataFrame se organiza en vectores que agrupan todas las características relevantes en una única columna llamada features.\n",
        "\n",
        "Esta transformación es esencial para preparar los datos antes de ser utilizados en modelos de aprendizaje automático, ya que estos requieren que las variables predictoras estén representadas como vectores numéricos.\n",
        "\n",
        "La columna label, por su parte, contiene la variable objetivo que indica si el paciente presenta o no enfermedad cardíaca."
      ],
      "metadata": {
        "id": "DaZ6cVFnaRSL"
      }
    },
    {
      "cell_type": "markdown",
      "source": [
        "**7.- División de Datos Entrenamiento y Prueba**\n",
        "\n",
        "\n",
        "```\n",
        "entrenamiento, prueba = vector_trans_df.randomSplit([0.7,0.3], seed = 13)\n",
        "\n",
        "```"
      ],
      "metadata": {
        "id": "6iupKCo3F6fs"
      }
    },
    {
      "cell_type": "code",
      "source": [
        "entrenamiento, prueba = vector_trans_df.randomSplit([0.7,0.3], seed = 13)"
      ],
      "metadata": {
        "id": "BoUL-8QXM4nb"
      },
      "execution_count": null,
      "outputs": []
    },
    {
      "cell_type": "markdown",
      "source": [
        "**8.- Consulta: Escriba sus apreciaciones sobre el balanceo de los datos, en Entrenamiento y en los de Prueba**\n",
        "\n",
        "\n",
        "\n",
        "```\n",
        "total=float(entrenamiento.select(\"label\").count())\n",
        "Positivos=entrenamiento.select(\"label\").where('label == 1').count()\n",
        "porcentaje=(float(Positivos)/float(total))*100\n",
        "Negativos=float(total-Negativos)\n",
        "print('Cantidad de positivos {}'.format(Positivos))\n",
        "print('Percentaje de positivos {}'.format(porcentaje))\n",
        "\n",
        "```"
      ],
      "metadata": {
        "id": "ns6BbXgdHiB_"
      }
    },
    {
      "cell_type": "code",
      "source": [
        "total=float(entrenamiento.select(\"label\").count())\n",
        "Positivos=entrenamiento.select(\"label\").where('label == 1').count()\n",
        "porcentaje=(float(Positivos)/float(total))*100\n",
        "Negativos=float(total-Positivos)\n",
        "print('Cantidad de positivos {}'.format(Positivos))\n",
        "print('Percentaje de positivos {}'.format(porcentaje))"
      ],
      "metadata": {
        "id": "YIhwG_46N250",
        "colab": {
          "base_uri": "https://localhost:8080/"
        },
        "outputId": "41f77c3f-ad69-4264-df68-9d00b5b1abb3"
      },
      "execution_count": null,
      "outputs": [
        {
          "output_type": "stream",
          "name": "stdout",
          "text": [
            "Cantidad de positivos 359\n",
            "Percentaje de positivos 53.9039039039039\n"
          ]
        }
      ]
    },
    {
      "cell_type": "markdown",
      "source": [
        "Para los datos de entrenamiento se observa que existen **359 registros positivos**, lo que representa aproximadamente el **53.9% del total**. Esto indica que el conjunto de entrenamiento está **moderadamente balanceado**, ya que ambas clases tienen una representación similar. Esto es ideal para evitar que el modelo se sesgue hacia la clase mayoritaria."
      ],
      "metadata": {
        "id": "EMBrkqj4bwf5"
      }
    },
    {
      "cell_type": "code",
      "source": [
        "total_test = float(prueba.select(\"label\").count())\n",
        "positivos_test = prueba.select(\"label\").where('label == 1').count()\n",
        "porcentaje_test = (float(positivos_test) / float(total_test)) * 100\n",
        "negativos_test = float(total_test - positivos_test)\n",
        "\n",
        "print('Cantidad de positivos en prueba: {}'.format(positivos_test))\n",
        "print('Porcentaje de positivos en prueba: {:.2f}%'.format(porcentaje_test))"
      ],
      "metadata": {
        "colab": {
          "base_uri": "https://localhost:8080/"
        },
        "id": "_CjXom_Xb8cm",
        "outputId": "6d2ac1ca-aca4-4efc-b39e-8051881e3612"
      },
      "execution_count": null,
      "outputs": [
        {
          "output_type": "stream",
          "name": "stdout",
          "text": [
            "Cantidad de positivos en prueba: 149\n",
            "Porcentaje de positivos en prueba: 59.13%\n"
          ]
        }
      ]
    },
    {
      "cell_type": "markdown",
      "source": [
        "Para los datos de prueba se observa que existen** 149 observaciones positivas**, lo que representa aproximadamente el **59.13% del total**.\n",
        "\n",
        "Este porcentaje indica que la clase positiva tiene una ligera mayoría dentro del conjunto de prueba. Aunque el desbalance no es extremo, es importante tenerlo en cuenta al evaluar métricas como precisión, recall y F1-score, ya que un sesgo en la distribución de clases puede influir en el comportamiento del modelo."
      ],
      "metadata": {
        "id": "a6p9q58Wb-ly"
      }
    },
    {
      "cell_type": "markdown",
      "source": [
        "## Modelado\n",
        "\n",
        "**9.- Modelo a seguir es de árboles de decisiones**\n",
        "\n",
        "```\n",
        "from pyspark.ml.classification import DecisionTreeClassifier\n",
        "\n",
        "parametros = {'maxDepth':4}\n",
        "\n",
        "clasificador = DecisionTreeClassifier(**parametros, seed= 13)\n",
        "clasificador\n",
        "\n",
        "modeloArboles = clasificador.fit(trainset)\n",
        "\n",
        "```\n",
        "\n"
      ],
      "metadata": {
        "id": "dadIQP7fIdYZ"
      }
    },
    {
      "cell_type": "code",
      "source": [
        "from pyspark.ml.classification import DecisionTreeClassifier\n",
        "\n",
        "parametros = {'maxDepth':4}\n",
        "\n",
        "clasificador = DecisionTreeClassifier(**parametros, seed= 13)\n",
        "clasificador\n",
        "\n",
        "modeloArboles = clasificador.fit(entrenamiento)"
      ],
      "metadata": {
        "id": "KexEowFx9SGJ"
      },
      "execution_count": null,
      "outputs": []
    },
    {
      "cell_type": "markdown",
      "source": [
        "**10.- Predicciones sobre los datos de prueba**\n",
        "\n",
        "```\n",
        "prediccionesPrueba = clasificador.transform(valoresPruebas)\n",
        "prediccionesPrueba.show(2, False)\n",
        "\n",
        "```"
      ],
      "metadata": {
        "id": "51MydsfWRoP9"
      }
    },
    {
      "cell_type": "code",
      "source": [
        "prediccionesPrueba = modeloArboles.transform(prueba)\n",
        "prediccionesPrueba.show(5, False)"
      ],
      "metadata": {
        "id": "IAMO_xERRnu2",
        "colab": {
          "base_uri": "https://localhost:8080/"
        },
        "outputId": "0a67eb63-f704-4704-b889-ff620d20bdb1"
      },
      "execution_count": null,
      "outputs": [
        {
          "output_type": "stream",
          "name": "stdout",
          "text": [
            "+---------------------------------------------------+-----+-------------+----------------------------------------+----------+\n",
            "|features                                           |label|rawPrediction|probability                             |prediction|\n",
            "+---------------------------------------------------+-----+-------------+----------------------------------------+----------+\n",
            "|(12,[0,1,2,3,4],[74.0,140.0,237.0,1.0,94.0])       |1    |[9.0,36.0]   |[0.2,0.8]                               |1.0       |\n",
            "|(12,[0,1,2,3,4,5],[52.0,152.0,298.0,1.0,178.0,1.2])|0    |[6.0,15.0]   |[0.2857142857142857,0.7142857142857143] |1.0       |\n",
            "|(12,[0,1,2,3,4,8],[64.0,130.0,258.0,1.0,130.0,1.0])|1    |[13.0,221.0] |[0.05555555555555555,0.9444444444444444]|1.0       |\n",
            "|(12,[0,1,2,4],[53.0,145.0,518.0,130.0])            |1    |[9.0,36.0]   |[0.2,0.8]                               |1.0       |\n",
            "|(12,[0,1,2,4],[55.0,140.0,295.0,136.0])            |1    |[9.0,36.0]   |[0.2,0.8]                               |1.0       |\n",
            "+---------------------------------------------------+-----+-------------+----------------------------------------+----------+\n",
            "only showing top 5 rows\n",
            "\n"
          ]
        }
      ]
    },
    {
      "cell_type": "markdown",
      "source": [
        "##**11.- Evaluación de Modelo de Clasificación**\n",
        "\n",
        "- Presente la matriz de confusión y de sus apreciaciones\n",
        "- Reto pinte ROC y obtenga el valor AUC y de sus apreciaciones\n",
        "\n",
        "```\n",
        "matrzC_prueba = predictionAndLabels.crosstab(\"prediction\", \"label\")\n",
        "matrzC_prueba = matrzC_prueba.toPandas()\n",
        "matrzC_prueba.sort_values(by = ['prediction_label'])\n",
        "```\n"
      ],
      "metadata": {
        "id": "EDShDkwKSO9Z"
      }
    },
    {
      "cell_type": "code",
      "source": [
        "predictionAndLabels = prediccionesPrueba.select(\"prediction\", \"label\")\n",
        "matrzC_prueba = predictionAndLabels.crosstab(\"prediction\", \"label\")\n",
        "matrzC_prueba = matrzC_prueba.toPandas()\n",
        "matrzC_prueba.sort_values(by = ['prediction_label'])"
      ],
      "metadata": {
        "id": "hx-yolwwT7vJ",
        "colab": {
          "base_uri": "https://localhost:8080/",
          "height": 112
        },
        "outputId": "df6df70f-2733-4d1b-eecf-6aeb9be816ee"
      },
      "execution_count": null,
      "outputs": [
        {
          "output_type": "execute_result",
          "data": {
            "text/plain": [
              "  prediction_label   0    1\n",
              "1              0.0  82   27\n",
              "0              1.0  21  122"
            ],
            "text/html": [
              "\n",
              "  <div id=\"df-7310cd76-956e-4d71-9631-3108858d760b\" class=\"colab-df-container\">\n",
              "    <div>\n",
              "<style scoped>\n",
              "    .dataframe tbody tr th:only-of-type {\n",
              "        vertical-align: middle;\n",
              "    }\n",
              "\n",
              "    .dataframe tbody tr th {\n",
              "        vertical-align: top;\n",
              "    }\n",
              "\n",
              "    .dataframe thead th {\n",
              "        text-align: right;\n",
              "    }\n",
              "</style>\n",
              "<table border=\"1\" class=\"dataframe\">\n",
              "  <thead>\n",
              "    <tr style=\"text-align: right;\">\n",
              "      <th></th>\n",
              "      <th>prediction_label</th>\n",
              "      <th>0</th>\n",
              "      <th>1</th>\n",
              "    </tr>\n",
              "  </thead>\n",
              "  <tbody>\n",
              "    <tr>\n",
              "      <th>1</th>\n",
              "      <td>0.0</td>\n",
              "      <td>82</td>\n",
              "      <td>27</td>\n",
              "    </tr>\n",
              "    <tr>\n",
              "      <th>0</th>\n",
              "      <td>1.0</td>\n",
              "      <td>21</td>\n",
              "      <td>122</td>\n",
              "    </tr>\n",
              "  </tbody>\n",
              "</table>\n",
              "</div>\n",
              "    <div class=\"colab-df-buttons\">\n",
              "\n",
              "  <div class=\"colab-df-container\">\n",
              "    <button class=\"colab-df-convert\" onclick=\"convertToInteractive('df-7310cd76-956e-4d71-9631-3108858d760b')\"\n",
              "            title=\"Convert this dataframe to an interactive table.\"\n",
              "            style=\"display:none;\">\n",
              "\n",
              "  <svg xmlns=\"http://www.w3.org/2000/svg\" height=\"24px\" viewBox=\"0 -960 960 960\">\n",
              "    <path d=\"M120-120v-720h720v720H120Zm60-500h600v-160H180v160Zm220 220h160v-160H400v160Zm0 220h160v-160H400v160ZM180-400h160v-160H180v160Zm440 0h160v-160H620v160ZM180-180h160v-160H180v160Zm440 0h160v-160H620v160Z\"/>\n",
              "  </svg>\n",
              "    </button>\n",
              "\n",
              "  <style>\n",
              "    .colab-df-container {\n",
              "      display:flex;\n",
              "      gap: 12px;\n",
              "    }\n",
              "\n",
              "    .colab-df-convert {\n",
              "      background-color: #E8F0FE;\n",
              "      border: none;\n",
              "      border-radius: 50%;\n",
              "      cursor: pointer;\n",
              "      display: none;\n",
              "      fill: #1967D2;\n",
              "      height: 32px;\n",
              "      padding: 0 0 0 0;\n",
              "      width: 32px;\n",
              "    }\n",
              "\n",
              "    .colab-df-convert:hover {\n",
              "      background-color: #E2EBFA;\n",
              "      box-shadow: 0px 1px 2px rgba(60, 64, 67, 0.3), 0px 1px 3px 1px rgba(60, 64, 67, 0.15);\n",
              "      fill: #174EA6;\n",
              "    }\n",
              "\n",
              "    .colab-df-buttons div {\n",
              "      margin-bottom: 4px;\n",
              "    }\n",
              "\n",
              "    [theme=dark] .colab-df-convert {\n",
              "      background-color: #3B4455;\n",
              "      fill: #D2E3FC;\n",
              "    }\n",
              "\n",
              "    [theme=dark] .colab-df-convert:hover {\n",
              "      background-color: #434B5C;\n",
              "      box-shadow: 0px 1px 3px 1px rgba(0, 0, 0, 0.15);\n",
              "      filter: drop-shadow(0px 1px 2px rgba(0, 0, 0, 0.3));\n",
              "      fill: #FFFFFF;\n",
              "    }\n",
              "  </style>\n",
              "\n",
              "    <script>\n",
              "      const buttonEl =\n",
              "        document.querySelector('#df-7310cd76-956e-4d71-9631-3108858d760b button.colab-df-convert');\n",
              "      buttonEl.style.display =\n",
              "        google.colab.kernel.accessAllowed ? 'block' : 'none';\n",
              "\n",
              "      async function convertToInteractive(key) {\n",
              "        const element = document.querySelector('#df-7310cd76-956e-4d71-9631-3108858d760b');\n",
              "        const dataTable =\n",
              "          await google.colab.kernel.invokeFunction('convertToInteractive',\n",
              "                                                    [key], {});\n",
              "        if (!dataTable) return;\n",
              "\n",
              "        const docLinkHtml = 'Like what you see? Visit the ' +\n",
              "          '<a target=\"_blank\" href=https://colab.research.google.com/notebooks/data_table.ipynb>data table notebook</a>'\n",
              "          + ' to learn more about interactive tables.';\n",
              "        element.innerHTML = '';\n",
              "        dataTable['output_type'] = 'display_data';\n",
              "        await google.colab.output.renderOutput(dataTable, element);\n",
              "        const docLink = document.createElement('div');\n",
              "        docLink.innerHTML = docLinkHtml;\n",
              "        element.appendChild(docLink);\n",
              "      }\n",
              "    </script>\n",
              "  </div>\n",
              "\n",
              "\n",
              "    <div id=\"df-408d66b5-b77e-4f9b-8564-192eff933de5\">\n",
              "      <button class=\"colab-df-quickchart\" onclick=\"quickchart('df-408d66b5-b77e-4f9b-8564-192eff933de5')\"\n",
              "                title=\"Suggest charts\"\n",
              "                style=\"display:none;\">\n",
              "\n",
              "<svg xmlns=\"http://www.w3.org/2000/svg\" height=\"24px\"viewBox=\"0 0 24 24\"\n",
              "     width=\"24px\">\n",
              "    <g>\n",
              "        <path d=\"M19 3H5c-1.1 0-2 .9-2 2v14c0 1.1.9 2 2 2h14c1.1 0 2-.9 2-2V5c0-1.1-.9-2-2-2zM9 17H7v-7h2v7zm4 0h-2V7h2v10zm4 0h-2v-4h2v4z\"/>\n",
              "    </g>\n",
              "</svg>\n",
              "      </button>\n",
              "\n",
              "<style>\n",
              "  .colab-df-quickchart {\n",
              "      --bg-color: #E8F0FE;\n",
              "      --fill-color: #1967D2;\n",
              "      --hover-bg-color: #E2EBFA;\n",
              "      --hover-fill-color: #174EA6;\n",
              "      --disabled-fill-color: #AAA;\n",
              "      --disabled-bg-color: #DDD;\n",
              "  }\n",
              "\n",
              "  [theme=dark] .colab-df-quickchart {\n",
              "      --bg-color: #3B4455;\n",
              "      --fill-color: #D2E3FC;\n",
              "      --hover-bg-color: #434B5C;\n",
              "      --hover-fill-color: #FFFFFF;\n",
              "      --disabled-bg-color: #3B4455;\n",
              "      --disabled-fill-color: #666;\n",
              "  }\n",
              "\n",
              "  .colab-df-quickchart {\n",
              "    background-color: var(--bg-color);\n",
              "    border: none;\n",
              "    border-radius: 50%;\n",
              "    cursor: pointer;\n",
              "    display: none;\n",
              "    fill: var(--fill-color);\n",
              "    height: 32px;\n",
              "    padding: 0;\n",
              "    width: 32px;\n",
              "  }\n",
              "\n",
              "  .colab-df-quickchart:hover {\n",
              "    background-color: var(--hover-bg-color);\n",
              "    box-shadow: 0 1px 2px rgba(60, 64, 67, 0.3), 0 1px 3px 1px rgba(60, 64, 67, 0.15);\n",
              "    fill: var(--button-hover-fill-color);\n",
              "  }\n",
              "\n",
              "  .colab-df-quickchart-complete:disabled,\n",
              "  .colab-df-quickchart-complete:disabled:hover {\n",
              "    background-color: var(--disabled-bg-color);\n",
              "    fill: var(--disabled-fill-color);\n",
              "    box-shadow: none;\n",
              "  }\n",
              "\n",
              "  .colab-df-spinner {\n",
              "    border: 2px solid var(--fill-color);\n",
              "    border-color: transparent;\n",
              "    border-bottom-color: var(--fill-color);\n",
              "    animation:\n",
              "      spin 1s steps(1) infinite;\n",
              "  }\n",
              "\n",
              "  @keyframes spin {\n",
              "    0% {\n",
              "      border-color: transparent;\n",
              "      border-bottom-color: var(--fill-color);\n",
              "      border-left-color: var(--fill-color);\n",
              "    }\n",
              "    20% {\n",
              "      border-color: transparent;\n",
              "      border-left-color: var(--fill-color);\n",
              "      border-top-color: var(--fill-color);\n",
              "    }\n",
              "    30% {\n",
              "      border-color: transparent;\n",
              "      border-left-color: var(--fill-color);\n",
              "      border-top-color: var(--fill-color);\n",
              "      border-right-color: var(--fill-color);\n",
              "    }\n",
              "    40% {\n",
              "      border-color: transparent;\n",
              "      border-right-color: var(--fill-color);\n",
              "      border-top-color: var(--fill-color);\n",
              "    }\n",
              "    60% {\n",
              "      border-color: transparent;\n",
              "      border-right-color: var(--fill-color);\n",
              "    }\n",
              "    80% {\n",
              "      border-color: transparent;\n",
              "      border-right-color: var(--fill-color);\n",
              "      border-bottom-color: var(--fill-color);\n",
              "    }\n",
              "    90% {\n",
              "      border-color: transparent;\n",
              "      border-bottom-color: var(--fill-color);\n",
              "    }\n",
              "  }\n",
              "</style>\n",
              "\n",
              "      <script>\n",
              "        async function quickchart(key) {\n",
              "          const quickchartButtonEl =\n",
              "            document.querySelector('#' + key + ' button');\n",
              "          quickchartButtonEl.disabled = true;  // To prevent multiple clicks.\n",
              "          quickchartButtonEl.classList.add('colab-df-spinner');\n",
              "          try {\n",
              "            const charts = await google.colab.kernel.invokeFunction(\n",
              "                'suggestCharts', [key], {});\n",
              "          } catch (error) {\n",
              "            console.error('Error during call to suggestCharts:', error);\n",
              "          }\n",
              "          quickchartButtonEl.classList.remove('colab-df-spinner');\n",
              "          quickchartButtonEl.classList.add('colab-df-quickchart-complete');\n",
              "        }\n",
              "        (() => {\n",
              "          let quickchartButtonEl =\n",
              "            document.querySelector('#df-408d66b5-b77e-4f9b-8564-192eff933de5 button');\n",
              "          quickchartButtonEl.style.display =\n",
              "            google.colab.kernel.accessAllowed ? 'block' : 'none';\n",
              "        })();\n",
              "      </script>\n",
              "    </div>\n",
              "\n",
              "    </div>\n",
              "  </div>\n"
            ],
            "application/vnd.google.colaboratory.intrinsic+json": {
              "type": "dataframe",
              "summary": "{\n  \"name\": \"matrzC_prueba\",\n  \"rows\": 2,\n  \"fields\": [\n    {\n      \"column\": \"prediction_label\",\n      \"properties\": {\n        \"dtype\": \"string\",\n        \"num_unique_values\": 2,\n        \"samples\": [\n          \"1.0\",\n          \"0.0\"\n        ],\n        \"semantic_type\": \"\",\n        \"description\": \"\"\n      }\n    },\n    {\n      \"column\": \"0\",\n      \"properties\": {\n        \"dtype\": \"number\",\n        \"std\": 43,\n        \"min\": 21,\n        \"max\": 82,\n        \"num_unique_values\": 2,\n        \"samples\": [\n          21,\n          82\n        ],\n        \"semantic_type\": \"\",\n        \"description\": \"\"\n      }\n    },\n    {\n      \"column\": \"1\",\n      \"properties\": {\n        \"dtype\": \"number\",\n        \"std\": 67,\n        \"min\": 27,\n        \"max\": 122,\n        \"num_unique_values\": 2,\n        \"samples\": [\n          122,\n          27\n        ],\n        \"semantic_type\": \"\",\n        \"description\": \"\"\n      }\n    }\n  ]\n}"
            }
          },
          "metadata": {},
          "execution_count": 32
        }
      ]
    },
    {
      "cell_type": "markdown",
      "source": [
        "- **Verdaderos Positivos (TP = 82):** Casos correctamente clasificados como personas con enfermedad cardíaca.\n",
        "- **Verdaderos Negativos (TN = 122):** Casos correctamente identificados como sanos.\n",
        "- **Falsos Positivos (FP = 27):** Casos que fueron clasificados como enfermos, pero en realidad no lo estaban.\n",
        "- **Falsos Negativos (FN = 21):** Casos en los que el modelo no logró detectar la enfermedad, aunque sí estaba presente.\n",
        "\n",
        "El modelo presenta un buen comportamiento general, logrando clasificar correctamente la mayoría de los casos. Sin embargo, los **falsos negativos** son particularmente relevantes en contextos médicos, ya que representan pacientes enfermos no detectados. Para minimizar el riesgo para los pacientes, es pertinente la **sensibilidad (recall)** del modelo, aunque esto implique un pequeño aumento en falsos positivos."
      ],
      "metadata": {
        "id": "p8tARj3IhgXV"
      }
    },
    {
      "cell_type": "code",
      "source": [
        "from pyspark.ml.evaluation import BinaryClassificationEvaluator\n",
        "from pyspark.mllib.evaluation import BinaryClassificationMetrics\n",
        "\n",
        "# Extraer la columna 'probability' y el 'label'\n",
        "# Se requiere una RDD de pares (score, label)\n",
        "scoreAndLabels = prediccionesPrueba.select(\"probability\", \"label\") \\\n",
        "    .rdd.map(lambda row: (float(row['probability'][1]), float(row['label'])))\n",
        "\n",
        "# Crear objeto para evaluación binaria\n",
        "metrics = BinaryClassificationMetrics(scoreAndLabels)\n",
        "\n",
        "# Obtener AUC\n",
        "auc = metrics.areaUnderROC\n",
        "print(f\" Área bajo la curva ROC (AUC): {auc:.4f}\")\n"
      ],
      "metadata": {
        "colab": {
          "base_uri": "https://localhost:8080/"
        },
        "id": "o2bBMlKWixkI",
        "outputId": "61085ad8-e9a4-40fd-c862-4f0bb47fd197"
      },
      "execution_count": null,
      "outputs": [
        {
          "output_type": "stream",
          "name": "stderr",
          "text": [
            "/usr/local/lib/python3.11/dist-packages/pyspark/sql/context.py:158: FutureWarning: Deprecated in 3.0.0. Use SparkSession.builder.getOrCreate() instead.\n",
            "  warnings.warn(\n"
          ]
        },
        {
          "output_type": "stream",
          "name": "stdout",
          "text": [
            "🔍 Área bajo la curva ROC (AUC): 0.8700\n"
          ]
        }
      ]
    },
    {
      "cell_type": "markdown",
      "source": [
        "El modelo obtuvo un valor de **AUC = 0.87** al ser evaluado sobre el conjunto de prueba. Este resultado indica un **alto poder discriminativo**, es decir, el modelo tiene una muy buena capacidad para distinguir entre pacientes con y sin enfermedad cardíaca.\n",
        "\n",
        "Un AUC de 0.87 significa que, ante un par aleatorio de casos (uno positivo y uno negativo), el modelo tiene un 87% de probabilidad de asignar una mayor puntuación al caso positivo. En el contexto clínico, donde es fundamental minimizar errores en el diagnóstico, este valor es especialmente alentador, ya que sugiere que el modelo está tomando decisiones acertadas en la mayoría de los casos.\n"
      ],
      "metadata": {
        "id": "mp2CswM1jpeq"
      }
    },
    {
      "cell_type": "markdown",
      "source": [
        "\n",
        "- Imprima las métricas a continuación en (0.00%), escriba sus apreciaciones\n",
        "\n",
        "```\n",
        "TP = cm_pruebas[\"1\"][0]\n",
        "FP = cm_pruebas[\"0\"][0]\n",
        "TN = cm_pruebs[\"0\"][1]\n",
        "FN = cm_pruba[\"1\"][1]\n",
        "Accuracy = (TP+TN)/(TP+FP+TN+FN)\n",
        "Sensitivity = TP/(TP+FN)\n",
        "Specificity = TN/(TN+FP)\n",
        "Precision = TP/(TP+FP)\n",
        "\n",
        "\n",
        "print(f\"Metrica = {np.round(Metrica,n)*100}%\")\n",
        "\n",
        "```"
      ],
      "metadata": {
        "id": "gNWpTGWHTqId"
      }
    },
    {
      "cell_type": "code",
      "source": [
        "TP = matrzC_prueba[\"1\"][0]\n",
        "FP = matrzC_prueba[\"0\"][0]\n",
        "TN = matrzC_prueba[\"0\"][1]\n",
        "FN = matrzC_prueba[\"1\"][1]\n",
        "Accuracy = (TP+TN)/(TP+FP+TN+FN)\n",
        "Sensitivity = TP/(TP+FN)\n",
        "Specificity = TN/(TN+FP)\n",
        "Precision = TP/(TP+FP)\n",
        "\n",
        "\n",
        "print(f\"Metrica = {np.round(Accuracy,2)*100}%\")\n",
        "print(f\"Metrica = {np.round(Sensitivity,2)*100}%\")\n",
        "print(f\"Metrica = {np.round(Specificity,2)*100}%\")\n",
        "print(f\"Metrica = {np.round(Precision,2)*100}%\")"
      ],
      "metadata": {
        "id": "rdJr7oj1SOlB",
        "colab": {
          "base_uri": "https://localhost:8080/"
        },
        "outputId": "199921e9-2933-4b11-adaa-050b80963a6e"
      },
      "execution_count": null,
      "outputs": [
        {
          "output_type": "stream",
          "name": "stdout",
          "text": [
            "Metrica = 81.0%\n",
            "Metrica = 82.0%\n",
            "Metrica = 80.0%\n",
            "Metrica = 85.0%\n"
          ]
        }
      ]
    },
    {
      "cell_type": "markdown",
      "source": [
        "A partir de la matriz de confusión y las predicciones realizadas sobre el conjunto de prueba, se calcularon las siguientes métricas:\n",
        "\n",
        "- **Accuracy (Exactitud): 81.0%**  \n",
        "  El modelo clasifica correctamente el 81% del total de casos. Esta métrica global considera tanto verdaderos positivos como verdaderos negativos.\n",
        "\n",
        "- **Sensitivity (Recall o Tasa de verdaderos positivos): 82.0%**  \n",
        "  Indica que el modelo detecta correctamente el 82% de los casos positivos (pacientes con enfermedad cardíaca). Es una métrica clave en contextos clínicos.\n",
        "\n",
        "- **Specificity (Tasa de verdaderos negativos): 80.0%**  \n",
        "  El modelo identifica correctamente el 80% de los casos negativos (pacientes sanos), lo que reduce falsos diagnósticos.\n",
        "\n",
        "- **Precision (Precisión): 85.0%**  \n",
        "  De todas las predicciones positivas realizadas, el 85% corresponde efectivamente a pacientes con enfermedad. Es una medida de confianza en las predicciones positivas.\n",
        "\n",
        "En conjunto, estas métricas reflejan un modelo balanceado, con buena capacidad para distinguir entre pacientes con y sin enfermedad cardíaca, manteniendo controlados tanto los falsos positivos como los falsos negativos."
      ],
      "metadata": {
        "id": "CttP3lPLlheL"
      }
    },
    {
      "cell_type": "markdown",
      "source": [
        "**12.- Terminar sesión SPARK**\n",
        "\n",
        "```\n",
        "spark.stop()\n",
        "```"
      ],
      "metadata": {
        "id": "gxxYsasOY8jd"
      }
    },
    {
      "cell_type": "code",
      "source": [
        "spark.stop()"
      ],
      "metadata": {
        "id": "1CSKuyS5ZRVR"
      },
      "execution_count": null,
      "outputs": []
    },
    {
      "cell_type": "markdown",
      "source": [
        "## **12.- Conclusiones\n",
        "\n",
        "Dentro del proceso de análisis de datos, cada etapa de un proyecto de ciencia de datos cumple un rol fundamental. Desde el análisis exploratorio inicial, donde se comprenden las características y tipos de datos disponibles, hasta la limpieza y preparación de los mismos, que garantiza la calidad y confiabilidad de la información utilizada.\n",
        "\n",
        "El uso de herramientas como PySpark y entornos como Google Colab facilita la ejecución eficiente de estas tareas sobre grandes volúmenes de datos, permitiendo automatizar procesos y acelerar los tiempos de desarrollo.\n",
        "\n",
        "Sin embargo, más allá de la preparación de los datos, la etapa más crítica es la evaluación e interpretación del modelo. Escoger las métricas adecuadas, analizarlas correctamente y comprender sus implicaciones es lo que finalmente permite mejorar el desempeño del modelo y tomar decisiones sólidas basadas en sus resultados. Esta capacidad de análisis es la que convierte un modelo en una herramienta útil y aplicable en contextos reales."
      ],
      "metadata": {
        "id": "QaMp7qVgIOYc"
      }
    }
  ]
}